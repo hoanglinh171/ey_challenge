{
 "cells": [
  {
   "cell_type": "markdown",
   "metadata": {},
   "source": [
    "## Required Packages"
   ]
  },
  {
   "cell_type": "code",
   "execution_count": 1,
   "metadata": {},
   "outputs": [],
   "source": [
    "import ee\n",
    "import geemap\n",
    "import rasterio\n",
    "import numpy as np\n",
    "import matplotlib.pyplot as plt"
   ]
  },
  {
   "cell_type": "markdown",
   "metadata": {},
   "source": [
    "## Authenticaion and Initialization"
   ]
  },
  {
   "cell_type": "code",
   "execution_count": null,
   "metadata": {},
   "outputs": [
    {
     "data": {
      "text/html": [
       "\n",
       "            <style>\n",
       "                .geemap-dark {\n",
       "                    --jp-widgets-color: white;\n",
       "                    --jp-widgets-label-color: white;\n",
       "                    --jp-ui-font-color1: white;\n",
       "                    --jp-layout-color2: #454545;\n",
       "                    background-color: #383838;\n",
       "                }\n",
       "\n",
       "                .geemap-dark .jupyter-button {\n",
       "                    --jp-layout-color3: #383838;\n",
       "                }\n",
       "\n",
       "                .geemap-colab {\n",
       "                    background-color: var(--colab-primary-surface-color, white);\n",
       "                }\n",
       "\n",
       "                .geemap-colab .jupyter-button {\n",
       "                    --jp-layout-color3: var(--colab-primary-surface-color, white);\n",
       "                }\n",
       "            </style>\n",
       "            "
      ],
      "text/plain": [
       "<IPython.core.display.HTML object>"
      ]
     },
     "metadata": {},
     "output_type": "display_data"
    }
   ],
   "source": [
    "# Authenticaion and Initialization\n",
    "ee.Authenticate()\n",
    "ee.Initialize(project=\"ee-leolincoln9804\")"
   ]
  },
  {
   "cell_type": "code",
   "execution_count": 24,
   "metadata": {},
   "outputs": [
    {
     "data": {
      "text/html": [
       "\n",
       "            <style>\n",
       "                .geemap-dark {\n",
       "                    --jp-widgets-color: white;\n",
       "                    --jp-widgets-label-color: white;\n",
       "                    --jp-ui-font-color1: white;\n",
       "                    --jp-layout-color2: #454545;\n",
       "                    background-color: #383838;\n",
       "                }\n",
       "\n",
       "                .geemap-dark .jupyter-button {\n",
       "                    --jp-layout-color3: #383838;\n",
       "                }\n",
       "\n",
       "                .geemap-colab {\n",
       "                    background-color: var(--colab-primary-surface-color, white);\n",
       "                }\n",
       "\n",
       "                .geemap-colab .jupyter-button {\n",
       "                    --jp-layout-color3: var(--colab-primary-surface-color, white);\n",
       "                }\n",
       "            </style>\n",
       "            "
      ],
      "text/plain": [
       "<IPython.core.display.HTML object>"
      ]
     },
     "metadata": {},
     "output_type": "display_data"
    }
   ],
   "source": [
    "# Define the Geological Range and Time Window\n",
    "coords = ee.Geometry.Rectangle([-74.01, 40.75, -73.86, 40.88])\n",
    "time_window = ee.DateRange(\"2021-06-01\", \"2021-09-01\")\n",
    "\n",
    "# Collection\n",
    "co_collection = 'COPERNICUS/S5P/NRTI/L3_CO'\n",
    "hcho_collection = 'COPERNICUS/S5P/NRTI/L3_HCHO'\n",
    "no2_collection = 'COPERNICUS/S5P/NRTI/L3_NO2'\n",
    "o3_collection = 'COPERNICUS/S5P/NRTI/L3_O3'\n",
    "so2_collection = 'COPERNICUS/S5P/NRTI/L3_SO2'"
   ]
  },
  {
   "cell_type": "markdown",
   "metadata": {},
   "source": [
    "## Data Retrieval\n"
   ]
  },
  {
   "cell_type": "code",
   "execution_count": 25,
   "metadata": {},
   "outputs": [
    {
     "data": {
      "text/html": [
       "\n",
       "            <style>\n",
       "                .geemap-dark {\n",
       "                    --jp-widgets-color: white;\n",
       "                    --jp-widgets-label-color: white;\n",
       "                    --jp-ui-font-color1: white;\n",
       "                    --jp-layout-color2: #454545;\n",
       "                    background-color: #383838;\n",
       "                }\n",
       "\n",
       "                .geemap-dark .jupyter-button {\n",
       "                    --jp-layout-color3: #383838;\n",
       "                }\n",
       "\n",
       "                .geemap-colab {\n",
       "                    background-color: var(--colab-primary-surface-color, white);\n",
       "                }\n",
       "\n",
       "                .geemap-colab .jupyter-button {\n",
       "                    --jp-layout-color3: var(--colab-primary-surface-color, white);\n",
       "                }\n",
       "            </style>\n",
       "            "
      ],
      "text/plain": [
       "<IPython.core.display.HTML object>"
      ]
     },
     "metadata": {},
     "output_type": "display_data"
    },
    {
     "data": {
      "text/plain": [
       "['SO2_column_number_density', 'SO2_slant_column_number_density']"
      ]
     },
     "execution_count": 25,
     "metadata": {},
     "output_type": "execute_result"
    }
   ],
   "source": [
    "dataset = ee.ImageCollection(so2_collection) \\\n",
    "    .filterDate(time_window) \\\n",
    "    .filterBounds(coords) \\\n",
    "    .mean() \\\n",
    "\n",
    "bands_names = [\n",
    "    'SO2_column_number_density',\n",
    "    'SO2_slant_column_number_density'\n",
    "]\n",
    "\n",
    "aod = dataset.select(bands_names)\n",
    "\n",
    "aod.bandNames().getInfo()"
   ]
  },
  {
   "cell_type": "code",
   "execution_count": null,
   "metadata": {},
   "outputs": [],
   "source": [
    "SAVE_DIR = '../air_quality/'\n",
    "\n",
    "output_file = \"SO2_index.tif\"\n",
    "geemap.ee_export_image(\n",
    "    aod, \n",
    "    filename=SAVE_DIR+output_file, \n",
    "    scale=1000, \n",
    "    region=coords, \n",
    "    file_per_band=False\n",
    ")"
   ]
  },
  {
   "cell_type": "code",
   "execution_count": 58,
   "metadata": {},
   "outputs": [
    {
     "data": {
      "text/html": [
       "\n",
       "            <style>\n",
       "                .geemap-dark {\n",
       "                    --jp-widgets-color: white;\n",
       "                    --jp-widgets-label-color: white;\n",
       "                    --jp-ui-font-color1: white;\n",
       "                    --jp-layout-color2: #454545;\n",
       "                    background-color: #383838;\n",
       "                }\n",
       "\n",
       "                .geemap-dark .jupyter-button {\n",
       "                    --jp-layout-color3: #383838;\n",
       "                }\n",
       "\n",
       "                .geemap-colab {\n",
       "                    background-color: var(--colab-primary-surface-color, white);\n",
       "                }\n",
       "\n",
       "                .geemap-colab .jupyter-button {\n",
       "                    --jp-layout-color3: var(--colab-primary-surface-color, white);\n",
       "                }\n",
       "            </style>\n",
       "            "
      ],
      "text/plain": [
       "<IPython.core.display.HTML object>"
      ]
     },
     "metadata": {},
     "output_type": "display_data"
    },
    {
     "data": {
      "image/png": "[encoded data removed]",
      "text/plain": [
       "<Figure size 800x600 with 2 Axes>"
      ]
     },
     "metadata": {},
     "output_type": "display_data"
    },
    {
     "data": {
      "text/plain": [
       "array([[9.89768285e-05, 9.25061806e-05, 1.02672372e-04, 9.58435163e-05,\n",
       "        1.05591110e-04, 1.06988497e-04, 9.19800858e-05, 9.76020637e-05,\n",
       "        9.65806851e-05, 1.04867694e-04, 1.09180294e-04, 9.88034307e-05,\n",
       "        1.01353000e-04, 9.76025509e-05, 8.30398564e-05, 8.44187032e-05,\n",
       "        9.51351458e-05],\n",
       "       [8.93386363e-05, 8.84261124e-05, 1.02702590e-04, 9.49420007e-05,\n",
       "        1.01628889e-04, 1.17058657e-04, 1.05752462e-04, 9.69292375e-05,\n",
       "        1.01036260e-04, 1.31501840e-04, 1.27767027e-04, 1.12059039e-04,\n",
       "        1.00979123e-04, 9.13068410e-05, 6.57296165e-05, 7.30506184e-05,\n",
       "        8.72390650e-05],\n",
       "       [7.09561507e-05, 7.28380582e-05, 8.69267227e-05, 9.37260127e-05,\n",
       "        7.95589511e-05, 1.01788879e-04, 9.03845854e-05, 9.00959111e-05,\n",
       "        6.36754142e-05, 9.72405093e-05, 1.15425417e-04, 1.15868466e-04,\n",
       "        9.93096924e-05, 9.07310013e-05, 8.17380317e-05, 8.43735049e-05,\n",
       "        8.14299002e-05],\n",
       "       [7.51771905e-05, 6.50590553e-05, 8.92060531e-05, 9.03742134e-05,\n",
       "        1.02782239e-04, 1.08194864e-04, 1.00521726e-04, 9.63170619e-05,\n",
       "        5.71330023e-05, 7.36035441e-05, 1.15313035e-04, 1.18818048e-04,\n",
       "        1.04823296e-04, 8.59327371e-05, 6.73887018e-05, 7.54345822e-05,\n",
       "        6.88213259e-05],\n",
       "       [8.59394345e-05, 8.27560257e-05, 9.71130240e-05, 9.01339657e-05,\n",
       "        9.65365915e-05, 7.30698251e-05, 6.63812374e-05, 8.82182180e-05,\n",
       "        8.60980879e-05, 5.89398761e-05, 9.11047999e-05, 9.15754767e-05,\n",
       "        7.74990326e-05, 5.42096732e-05, 5.32104616e-05, 5.58661736e-05,\n",
       "        6.13964278e-05],\n",
       "       [9.49540832e-05, 7.80571683e-05, 7.68173555e-05, 7.19325856e-05,\n",
       "        8.70309692e-05, 7.53445685e-05, 5.52833899e-05, 7.93199526e-05,\n",
       "        8.52777409e-05, 4.49030534e-05, 6.42790124e-05, 7.50544179e-05,\n",
       "        7.90774227e-05, 7.35862281e-05, 7.13102006e-05, 7.54903891e-05,\n",
       "        8.18114650e-05],\n",
       "       [8.14807411e-05, 7.94901816e-05, 8.10521869e-05, 8.27863984e-05,\n",
       "        9.36380457e-05, 7.70159637e-05, 3.35960187e-05, 3.54745674e-05,\n",
       "        5.88072530e-05, 4.94866602e-05, 5.28681414e-05, 6.95020966e-05,\n",
       "        8.61809929e-05, 9.22600379e-05, 9.46784691e-05, 7.69597483e-05,\n",
       "        7.05581547e-05],\n",
       "       [8.50077281e-05, 9.49110074e-05, 8.42175929e-05, 6.81611028e-05,\n",
       "        7.14799273e-05, 7.20735860e-05, 4.79694467e-05, 2.91620478e-05,\n",
       "        5.22596409e-05, 3.99194545e-05, 3.93093182e-05, 3.85170307e-05,\n",
       "        6.06899221e-05, 6.18016063e-05, 6.68160072e-05, 7.22487417e-05,\n",
       "        6.57249717e-05],\n",
       "       [5.53962773e-05, 1.01691971e-04, 8.93741036e-05, 8.21024687e-05,\n",
       "        8.91460977e-05, 9.71653936e-05, 7.39088767e-05, 4.05355295e-05,\n",
       "        5.33099437e-05, 3.60610898e-05, 3.19482605e-05, 2.70661600e-05,\n",
       "        6.11446218e-05, 7.92458476e-05, 8.40671643e-05, 7.91355590e-05,\n",
       "        7.33536063e-05],\n",
       "       [3.03193902e-05, 6.63390776e-05, 9.75735146e-05, 9.42560241e-05,\n",
       "        9.60675112e-05, 9.18111526e-05, 7.48444977e-05, 4.50199453e-05,\n",
       "        5.31179133e-05, 5.06889779e-05, 5.15722178e-05, 4.22238156e-05,\n",
       "        6.46523499e-05, 6.80131310e-05, 7.61565717e-05, 1.06084717e-04,\n",
       "        1.12139172e-04],\n",
       "       [7.70760994e-06, 3.32430391e-05, 8.30210344e-05, 8.50558343e-05,\n",
       "        8.96128633e-05, 9.12864893e-05, 7.88988296e-05, 5.37755286e-05,\n",
       "        5.47520731e-05, 6.41454443e-05, 5.34648605e-05, 5.73493452e-05,\n",
       "        5.41813248e-05, 8.18612202e-05, 9.32375098e-05, 1.19002541e-04,\n",
       "        1.13469758e-04],\n",
       "       [6.00009784e-06, 2.52623282e-05, 6.98887547e-05, 8.68738661e-05,\n",
       "        8.48219659e-05, 7.19724567e-05, 6.89086077e-05, 5.00987745e-05,\n",
       "        5.04149274e-05, 6.93605704e-05, 4.65314402e-05, 4.75551833e-05,\n",
       "        3.17425886e-05, 7.78352596e-05, 9.33704846e-05, 1.09160360e-04,\n",
       "        1.01236796e-04],\n",
       "       [1.17321676e-05, 3.36883111e-05, 5.61656996e-05, 7.07729995e-05,\n",
       "        7.82332428e-05, 7.49597833e-05, 6.60208650e-05, 5.98026063e-05,\n",
       "        5.12193695e-05, 6.71319952e-05, 4.82456653e-05, 2.77345195e-05,\n",
       "        3.49979730e-05, 6.88834462e-05, 8.74753307e-05, 9.35763614e-05,\n",
       "        1.00706129e-04],\n",
       "       [3.93045218e-05, 6.41747270e-05, 7.75053862e-05, 7.65736969e-05,\n",
       "        9.23074046e-05, 1.02404726e-04, 9.38681896e-05, 8.57171081e-05,\n",
       "        7.82912575e-05, 8.28704503e-05, 7.32278957e-05, 4.47494992e-05,\n",
       "        5.33986381e-05, 6.66832338e-05, 1.10727983e-04, 7.29473122e-05,\n",
       "        7.88029552e-05],\n",
       "       [4.14418724e-05, 7.41816379e-05, 9.14350600e-05, 8.04558040e-05,\n",
       "        1.00726966e-04, 1.05461246e-04, 1.07235178e-04, 9.64319999e-05,\n",
       "        8.42384117e-05, 8.56483208e-05, 8.23363685e-05, 6.34608731e-05,\n",
       "        6.65171543e-05, 4.34256736e-05, 7.17184059e-05, 6.03720255e-05,\n",
       "        7.19464474e-05]])"
      ]
     },
     "execution_count": 58,
     "metadata": {},
     "output_type": "execute_result"
    }
   ],
   "source": [
    "# tif. file path\n",
    "tif_file = \"..\\\\data\\\\air_quality\\\\AQ_satellite_extraction\\\\SO2_index.tif\"\n",
    "\n",
    "# Open tif. file\n",
    "with rasterio.open(tif_file) as src:\n",
    "    aod_data = src.read(2)  # Đọc band đầu tiên\n",
    "    profile = src.profile  # Metadata của file\n",
    "    bounds = src.bounds\n",
    "\n",
    "\n",
    "# print(\"Metadata\")\n",
    "# for key, value in profile.items():\n",
    "#     print(f\"{key}: {value}\")\n",
    "\n",
    "\n",
    "\n",
    "plt.figure(figsize=(8, 6))\n",
    "plt.imshow(aod_data, cmap=\"viridis\", interpolation=\"nearest\", \n",
    "           extent=[bounds.left, bounds.right, bounds.bottom, bounds.top])\n",
    "plt.colorbar(label=\"AOD Value\")\n",
    "plt.title(\"AOD over New York (Summer 2021)\")\n",
    "plt.show()\n",
    "\n",
    "aod_data"
   ]
  },
  {
   "cell_type": "markdown",
   "metadata": {},
   "source": [
    "## Save Data"
   ]
  },
  {
   "cell_type": "code",
   "execution_count": 48,
   "metadata": {},
   "outputs": [
    {
     "data": {
      "text/html": [
       "\n",
       "            <style>\n",
       "                .geemap-dark {\n",
       "                    --jp-widgets-color: white;\n",
       "                    --jp-widgets-label-color: white;\n",
       "                    --jp-ui-font-color1: white;\n",
       "                    --jp-layout-color2: #454545;\n",
       "                    background-color: #383838;\n",
       "                }\n",
       "\n",
       "                .geemap-dark .jupyter-button {\n",
       "                    --jp-layout-color3: #383838;\n",
       "                }\n",
       "\n",
       "                .geemap-colab {\n",
       "                    background-color: var(--colab-primary-surface-color, white);\n",
       "                }\n",
       "\n",
       "                .geemap-colab .jupyter-button {\n",
       "                    --jp-layout-color3: var(--colab-primary-surface-color, white);\n",
       "                }\n",
       "            </style>\n",
       "            "
      ],
      "text/plain": [
       "<IPython.core.display.HTML object>"
      ]
     },
     "metadata": {},
     "output_type": "display_data"
    },
    {
     "name": "stdout",
     "output_type": "stream",
     "text": [
      "✅ Merged TIFF saved at: ..\\data\\air_quality\\AQ_satellite_extraction\\Merged_air_quality.tif\n"
     ]
    }
   ],
   "source": [
    "air_quality_file_path = {\n",
    "    'CO': '..\\\\data\\\\air_quality\\\\AQ_satellite_extraction\\\\CO_index.tif',\n",
    "    'HCHO': '..\\\\data\\\\air_quality\\\\AQ_satellite_extraction\\\\HCHO_index.tif',\n",
    "    'NO2': '..\\\\data\\\\air_quality\\\\AQ_satellite_extraction\\\\NO2_index.tif',\n",
    "    'O3': \"..\\\\data\\\\air_quality\\\\AQ_satellite_extraction\\\\O3_index.tif\",\n",
    "    'SO2': '..\\\\data\\\\air_quality\\\\AQ_satellite_extraction\\\\SO2_index.tif'\n",
    "}\n",
    "\n",
    "co_bands = ['CO_column_number_density']\n",
    "hcho_bands = [\n",
    "    'tropospheric_HCHO_column_number_density',\n",
    "    'HCHO_slant_column_number_density'\n",
    "]\n",
    "no2_bands = [\n",
    "    'NO2_column_number_density',\n",
    "    'tropospheric_NO2_column_number_density',\n",
    "    'stratospheric_NO2_column_number_density',\n",
    "    'NO2_slant_column_number_density'\n",
    "]\n",
    "o3_bands = [\n",
    "    'O3_column_number_density',\n",
    "    'O3_slant_column_number_density'\n",
    "]\n",
    "so2_bands = [\n",
    "    'SO2_column_number_density',\n",
    "    'SO2_slant_column_number_density'\n",
    "]\n",
    "\n",
    "all_bands = co_bands + hcho_bands + no2_bands + o3_bands + so2_bands\n",
    "\n",
    "with rasterio.open(air_quality_file_path['CO']) as src:\n",
    "    meta = src.meta.copy()\n",
    "    height, width = src.shape\n",
    "    transform = src.transform\n",
    "\n",
    "# Cập nhật metadata để có tổng số bands tương ứng\n",
    "meta.update(count=len(all_bands), dtype=rasterio.float64)\n",
    "\n",
    "# Tạo tệp TIFF chứa tất cả bands\n",
    "output_tif = \"..\\\\data\\\\air_quality\\\\AQ_satellite_extraction\\\\Merged_air_quality.tif\"\n",
    "with rasterio.open(output_tif, 'w', **meta) as dst:\n",
    "    band_index = 1  # Chỉ số band trong file đầu ra\n",
    "    for pollutant, bands in zip(air_quality_file_path.keys(), [co_bands, hcho_bands, no2_bands, o3_bands, so2_bands]):\n",
    "        with rasterio.open(air_quality_file_path[pollutant]) as src:\n",
    "            for i, band_name in enumerate(bands):\n",
    "                data = src.read(i + 1)  # Đọc band đầu tiên (giả sử mỗi file chỉ có 1 band)\n",
    "                dst.write(data, band_index)  # Ghi vào band tương ứng\n",
    "                dst.set_band_description(band_index, band_name)  # Đặt tên band\n",
    "                band_index += 1\n",
    "\n",
    "print(f\"✅ Merged TIFF saved at: {output_tif}\")\n"
   ]
  },
  {
   "cell_type": "code",
   "execution_count": 60,
   "metadata": {},
   "outputs": [
    {
     "data": {
      "text/html": [
       "\n",
       "            <style>\n",
       "                .geemap-dark {\n",
       "                    --jp-widgets-color: white;\n",
       "                    --jp-widgets-label-color: white;\n",
       "                    --jp-ui-font-color1: white;\n",
       "                    --jp-layout-color2: #454545;\n",
       "                    background-color: #383838;\n",
       "                }\n",
       "\n",
       "                .geemap-dark .jupyter-button {\n",
       "                    --jp-layout-color3: #383838;\n",
       "                }\n",
       "\n",
       "                .geemap-colab {\n",
       "                    background-color: var(--colab-primary-surface-color, white);\n",
       "                }\n",
       "\n",
       "                .geemap-colab .jupyter-button {\n",
       "                    --jp-layout-color3: var(--colab-primary-surface-color, white);\n",
       "                }\n",
       "            </style>\n",
       "            "
      ],
      "text/plain": [
       "<IPython.core.display.HTML object>"
      ]
     },
     "metadata": {},
     "output_type": "display_data"
    },
    {
     "data": {
      "image/png": "[encoded data removed]",
      "text/plain": [
       "<Figure size 800x600 with 2 Axes>"
      ]
     },
     "metadata": {},
     "output_type": "display_data"
    },
    {
     "data": {
      "text/plain": [
       "array([[9.89768285e-05, 9.25061806e-05, 1.02672372e-04, 9.58435163e-05,\n",
       "        1.05591110e-04, 1.06988497e-04, 9.19800858e-05, 9.76020637e-05,\n",
       "        9.65806851e-05, 1.04867694e-04, 1.09180294e-04, 9.88034307e-05,\n",
       "        1.01353000e-04, 9.76025509e-05, 8.30398564e-05, 8.44187032e-05,\n",
       "        9.51351458e-05],\n",
       "       [8.93386363e-05, 8.84261124e-05, 1.02702590e-04, 9.49420007e-05,\n",
       "        1.01628889e-04, 1.17058657e-04, 1.05752462e-04, 9.69292375e-05,\n",
       "        1.01036260e-04, 1.31501840e-04, 1.27767027e-04, 1.12059039e-04,\n",
       "        1.00979123e-04, 9.13068410e-05, 6.57296165e-05, 7.30506184e-05,\n",
       "        8.72390650e-05],\n",
       "       [7.09561507e-05, 7.28380582e-05, 8.69267227e-05, 9.37260127e-05,\n",
       "        7.95589511e-05, 1.01788879e-04, 9.03845854e-05, 9.00959111e-05,\n",
       "        6.36754142e-05, 9.72405093e-05, 1.15425417e-04, 1.15868466e-04,\n",
       "        9.93096924e-05, 9.07310013e-05, 8.17380317e-05, 8.43735049e-05,\n",
       "        8.14299002e-05],\n",
       "       [7.51771905e-05, 6.50590553e-05, 8.92060531e-05, 9.03742134e-05,\n",
       "        1.02782239e-04, 1.08194864e-04, 1.00521726e-04, 9.63170619e-05,\n",
       "        5.71330023e-05, 7.36035441e-05, 1.15313035e-04, 1.18818048e-04,\n",
       "        1.04823296e-04, 8.59327371e-05, 6.73887018e-05, 7.54345822e-05,\n",
       "        6.88213259e-05],\n",
       "       [8.59394345e-05, 8.27560257e-05, 9.71130240e-05, 9.01339657e-05,\n",
       "        9.65365915e-05, 7.30698251e-05, 6.63812374e-05, 8.82182180e-05,\n",
       "        8.60980879e-05, 5.89398761e-05, 9.11047999e-05, 9.15754767e-05,\n",
       "        7.74990326e-05, 5.42096732e-05, 5.32104616e-05, 5.58661736e-05,\n",
       "        6.13964278e-05],\n",
       "       [9.49540832e-05, 7.80571683e-05, 7.68173555e-05, 7.19325856e-05,\n",
       "        8.70309692e-05, 7.53445685e-05, 5.52833899e-05, 7.93199526e-05,\n",
       "        8.52777409e-05, 4.49030534e-05, 6.42790124e-05, 7.50544179e-05,\n",
       "        7.90774227e-05, 7.35862281e-05, 7.13102006e-05, 7.54903891e-05,\n",
       "        8.18114650e-05],\n",
       "       [8.14807411e-05, 7.94901816e-05, 8.10521869e-05, 8.27863984e-05,\n",
       "        9.36380457e-05, 7.70159637e-05, 3.35960187e-05, 3.54745674e-05,\n",
       "        5.88072530e-05, 4.94866602e-05, 5.28681414e-05, 6.95020966e-05,\n",
       "        8.61809929e-05, 9.22600379e-05, 9.46784691e-05, 7.69597483e-05,\n",
       "        7.05581547e-05],\n",
       "       [8.50077281e-05, 9.49110074e-05, 8.42175929e-05, 6.81611028e-05,\n",
       "        7.14799273e-05, 7.20735860e-05, 4.79694467e-05, 2.91620478e-05,\n",
       "        5.22596409e-05, 3.99194545e-05, 3.93093182e-05, 3.85170307e-05,\n",
       "        6.06899221e-05, 6.18016063e-05, 6.68160072e-05, 7.22487417e-05,\n",
       "        6.57249717e-05],\n",
       "       [5.53962773e-05, 1.01691971e-04, 8.93741036e-05, 8.21024687e-05,\n",
       "        8.91460977e-05, 9.71653936e-05, 7.39088767e-05, 4.05355295e-05,\n",
       "        5.33099437e-05, 3.60610898e-05, 3.19482605e-05, 2.70661600e-05,\n",
       "        6.11446218e-05, 7.92458476e-05, 8.40671643e-05, 7.91355590e-05,\n",
       "        7.33536063e-05],\n",
       "       [3.03193902e-05, 6.63390776e-05, 9.75735146e-05, 9.42560241e-05,\n",
       "        9.60675112e-05, 9.18111526e-05, 7.48444977e-05, 4.50199453e-05,\n",
       "        5.31179133e-05, 5.06889779e-05, 5.15722178e-05, 4.22238156e-05,\n",
       "        6.46523499e-05, 6.80131310e-05, 7.61565717e-05, 1.06084717e-04,\n",
       "        1.12139172e-04],\n",
       "       [7.70760994e-06, 3.32430391e-05, 8.30210344e-05, 8.50558343e-05,\n",
       "        8.96128633e-05, 9.12864893e-05, 7.88988296e-05, 5.37755286e-05,\n",
       "        5.47520731e-05, 6.41454443e-05, 5.34648605e-05, 5.73493452e-05,\n",
       "        5.41813248e-05, 8.18612202e-05, 9.32375098e-05, 1.19002541e-04,\n",
       "        1.13469758e-04],\n",
       "       [6.00009784e-06, 2.52623282e-05, 6.98887547e-05, 8.68738661e-05,\n",
       "        8.48219659e-05, 7.19724567e-05, 6.89086077e-05, 5.00987745e-05,\n",
       "        5.04149274e-05, 6.93605704e-05, 4.65314402e-05, 4.75551833e-05,\n",
       "        3.17425886e-05, 7.78352596e-05, 9.33704846e-05, 1.09160360e-04,\n",
       "        1.01236796e-04],\n",
       "       [1.17321676e-05, 3.36883111e-05, 5.61656996e-05, 7.07729995e-05,\n",
       "        7.82332428e-05, 7.49597833e-05, 6.60208650e-05, 5.98026063e-05,\n",
       "        5.12193695e-05, 6.71319952e-05, 4.82456653e-05, 2.77345195e-05,\n",
       "        3.49979730e-05, 6.88834462e-05, 8.74753307e-05, 9.35763614e-05,\n",
       "        1.00706129e-04],\n",
       "       [3.93045218e-05, 6.41747270e-05, 7.75053862e-05, 7.65736969e-05,\n",
       "        9.23074046e-05, 1.02404726e-04, 9.38681896e-05, 8.57171081e-05,\n",
       "        7.82912575e-05, 8.28704503e-05, 7.32278957e-05, 4.47494992e-05,\n",
       "        5.33986381e-05, 6.66832338e-05, 1.10727983e-04, 7.29473122e-05,\n",
       "        7.88029552e-05],\n",
       "       [4.14418724e-05, 7.41816379e-05, 9.14350600e-05, 8.04558040e-05,\n",
       "        1.00726966e-04, 1.05461246e-04, 1.07235178e-04, 9.64319999e-05,\n",
       "        8.42384117e-05, 8.56483208e-05, 8.23363685e-05, 6.34608731e-05,\n",
       "        6.65171543e-05, 4.34256736e-05, 7.17184059e-05, 6.03720255e-05,\n",
       "        7.19464474e-05]])"
      ]
     },
     "execution_count": 60,
     "metadata": {},
     "output_type": "execute_result"
    }
   ],
   "source": [
    "# tif. file path\n",
    "tif_file = \"..\\\\data\\\\air_quality\\\\AQ_satellite_extraction\\\\Merged_air_quality.tif\"\n",
    "\n",
    "# Open tif. file\n",
    "with rasterio.open(tif_file) as src:\n",
    "    aod_data = src.read(11)  # Đọc band đầu tiên\n",
    "    profile = src.profile  # Metadata của file\n",
    "    bounds = src.bounds\n",
    "\n",
    "\n",
    "# print(\"Metadata\")\n",
    "# for key, value in profile.items():\n",
    "#     print(f\"{key}: {value}\")\n",
    "\n",
    "\n",
    "\n",
    "plt.figure(figsize=(8, 6))\n",
    "plt.imshow(aod_data, cmap=\"viridis\", interpolation=\"nearest\", \n",
    "           extent=[bounds.left, bounds.right, bounds.bottom, bounds.top])\n",
    "plt.colorbar(label=\"AOD Value\")\n",
    "plt.title(\"AOD over New York (Summer 2021)\")\n",
    "plt.show()\n",
    "\n",
    "aod_data"
   ]
  }
 ],
 "metadata": {
  "kernelspec": {
   "display_name": ".venv",
   "language": "python",
   "name": "python3"
  },
  "language_info": {
   "codemirror_mode": {
    "name": "ipython",
    "version": 3
   },
   "file_extension": ".py",
   "mimetype": "text/x-python",
   "name": "python",
   "nbconvert_exporter": "python",
   "pygments_lexer": "ipython3",
   "version": "3.11.9"
  }
 },
 "nbformat": 4,
 "nbformat_minor": 2
}
