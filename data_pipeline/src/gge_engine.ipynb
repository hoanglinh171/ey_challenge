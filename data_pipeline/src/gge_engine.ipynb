{
 "cells": [
  {
   "cell_type": "markdown",
   "metadata": {},
   "source": [
    "## Required Packages"
   ]
  },
  {
   "cell_type": "code",
   "execution_count": 1,
   "metadata": {},
   "outputs": [],
   "source": [
    "import ee\n",
    "import geemap\n",
    "import rasterio\n",
    "import numpy as np\n",
    "import matplotlib.pyplot as plt\n"
   ]
  },
  {
   "cell_type": "markdown",
   "metadata": {},
   "source": [
    "## Authenticaion and Initialization"
   ]
  },
  {
   "cell_type": "code",
   "execution_count": null,
   "metadata": {},
   "outputs": [
    {
     "data": {
      "text/html": [
       "\n",
       "            <style>\n",
       "                .geemap-dark {\n",
       "                    --jp-widgets-color: white;\n",
       "                    --jp-widgets-label-color: white;\n",
       "                    --jp-ui-font-color1: white;\n",
       "                    --jp-layout-color2: #454545;\n",
       "                    background-color: #383838;\n",
       "                }\n",
       "\n",
       "                .geemap-dark .jupyter-button {\n",
       "                    --jp-layout-color3: #383838;\n",
       "                }\n",
       "\n",
       "                .geemap-colab {\n",
       "                    background-color: var(--colab-primary-surface-color, white);\n",
       "                }\n",
       "\n",
       "                .geemap-colab .jupyter-button {\n",
       "                    --jp-layout-color3: var(--colab-primary-surface-color, white);\n",
       "                }\n",
       "            </style>\n",
       "            "
      ],
      "text/plain": [
       "<IPython.core.display.HTML object>"
      ]
     },
     "metadata": {},
     "output_type": "display_data"
    }
   ],
   "source": [
    "# Authenticaion and Initialization\n",
    "ee.Authenticate()\n",
    "ee.Initialize(project=\"ee-leolincoln9804\")"
   ]
  },
  {
   "cell_type": "code",
   "execution_count": 45,
   "metadata": {},
   "outputs": [
    {
     "data": {
      "text/html": [
       "\n",
       "            <style>\n",
       "                .geemap-dark {\n",
       "                    --jp-widgets-color: white;\n",
       "                    --jp-widgets-label-color: white;\n",
       "                    --jp-ui-font-color1: white;\n",
       "                    --jp-layout-color2: #454545;\n",
       "                    background-color: #383838;\n",
       "                }\n",
       "\n",
       "                .geemap-dark .jupyter-button {\n",
       "                    --jp-layout-color3: #383838;\n",
       "                }\n",
       "\n",
       "                .geemap-colab {\n",
       "                    background-color: var(--colab-primary-surface-color, white);\n",
       "                }\n",
       "\n",
       "                .geemap-colab .jupyter-button {\n",
       "                    --jp-layout-color3: var(--colab-primary-surface-color, white);\n",
       "                }\n",
       "            </style>\n",
       "            "
      ],
      "text/plain": [
       "<IPython.core.display.HTML object>"
      ]
     },
     "metadata": {},
     "output_type": "display_data"
    }
   ],
   "source": [
    "# Define the Geological Range and Time Window\n",
    "coords = ee.Geometry.Rectangle([-74.01, 40.75, -73.86, 40.88])\n",
    "time_window = ee.DateRange(\"2021-06-01\", \"2021-09-01\")\n",
    "\n",
    "# Collection\n",
    "collection = \"MODIS/061/MCD19A2_GRANULES\"\n"
   ]
  },
  {
   "cell_type": "markdown",
   "metadata": {},
   "source": [
    "## Data Retrieval"
   ]
  },
  {
   "cell_type": "code",
   "execution_count": null,
   "metadata": {},
   "outputs": [
    {
     "data": {
      "text/html": [
       "\n",
       "            <style>\n",
       "                .geemap-dark {\n",
       "                    --jp-widgets-color: white;\n",
       "                    --jp-widgets-label-color: white;\n",
       "                    --jp-ui-font-color1: white;\n",
       "                    --jp-layout-color2: #454545;\n",
       "                    background-color: #383838;\n",
       "                }\n",
       "\n",
       "                .geemap-dark .jupyter-button {\n",
       "                    --jp-layout-color3: #383838;\n",
       "                }\n",
       "\n",
       "                .geemap-colab {\n",
       "                    background-color: var(--colab-primary-surface-color, white);\n",
       "                }\n",
       "\n",
       "                .geemap-colab .jupyter-button {\n",
       "                    --jp-layout-color3: var(--colab-primary-surface-color, white);\n",
       "                }\n",
       "            </style>\n",
       "            "
      ],
      "text/plain": [
       "<IPython.core.display.HTML object>"
      ]
     },
     "metadata": {},
     "output_type": "display_data"
    },
    {
     "data": {
      "text/plain": [
       "['Optical_Depth_047',\n",
       " 'Optical_Depth_055',\n",
       " 'AOD_Uncertainty',\n",
       " 'FineModeFraction',\n",
       " 'Column_WV',\n",
       " 'Injection_Height',\n",
       " 'AOD_QA',\n",
       " 'AngstromExp_470-780',\n",
       " 'cosSZA',\n",
       " 'cosVZA',\n",
       " 'RelAZ',\n",
       " 'Scattering_Angle',\n",
       " 'Glint_Angle']"
      ]
     },
     "execution_count": 62,
     "metadata": {},
     "output_type": "execute_result"
    }
   ],
   "source": [
    "dataset = ee.ImageCollection(collection) \\\n",
    "    .filterDate(time_window) \\\n",
    "    .filterBounds(coords) \\\n",
    "    .mean() \\\n",
    "\n",
    "bands_names = [\n",
    "    \"Optical_Depth_047\",\n",
    "    \"Optical_Depth_055\",\n",
    "    \"AOD_Uncertainty\",\n",
    "    \"FineModeFraction\",\n",
    "    \"Column_WV\",\n",
    "    \"Injection_Height\",\n",
    "    \"AOD_QA\",\n",
    "    \"AngstromExp_470-780\",\n",
    "    \"cosSZA\",\n",
    "    \"cosVZA\",\n",
    "    \"RelAZ\",\n",
    "    \"Scattering_Angle\",\n",
    "    \"Glint_Angle\"\n",
    "]\n",
    "\n",
    "aod = dataset.select(bands_names)\n",
    "\n",
    "aod.bandNames().getInfo()"
   ]
  },
  {
   "cell_type": "code",
   "execution_count": 63,
   "metadata": {},
   "outputs": [
    {
     "data": {
      "text/html": [
       "\n",
       "            <style>\n",
       "                .geemap-dark {\n",
       "                    --jp-widgets-color: white;\n",
       "                    --jp-widgets-label-color: white;\n",
       "                    --jp-ui-font-color1: white;\n",
       "                    --jp-layout-color2: #454545;\n",
       "                    background-color: #383838;\n",
       "                }\n",
       "\n",
       "                .geemap-dark .jupyter-button {\n",
       "                    --jp-layout-color3: #383838;\n",
       "                }\n",
       "\n",
       "                .geemap-colab {\n",
       "                    background-color: var(--colab-primary-surface-color, white);\n",
       "                }\n",
       "\n",
       "                .geemap-colab .jupyter-button {\n",
       "                    --jp-layout-color3: var(--colab-primary-surface-color, white);\n",
       "                }\n",
       "            </style>\n",
       "            "
      ],
      "text/plain": [
       "<IPython.core.display.HTML object>"
      ]
     },
     "metadata": {},
     "output_type": "display_data"
    },
    {
     "name": "stdout",
     "output_type": "stream",
     "text": [
      "Generating URL ...\n",
      "Downloading data from https://earthengine.googleapis.com/v1/projects/ee-leolincoln9804/thumbnails/2ea9661329e9ce4b8b998f03486ca101-3054d3fbc13ba63bfcb709f3d77fa884:getPixels\n",
      "Please wait ...\n",
      "Data downloaded to d:\\HW & Project\\EY Challenge\\ey_challenge\\data_pipeline\\data\\air_quality\\AOD_NewYork_Summer2021.tif\n"
     ]
    }
   ],
   "source": [
    "SAVE_DIR = \"../data/air_quality/\"\n",
    "\n",
    "output_file = \"AOD_NewYork_Summer2021.tif\"\n",
    "geemap.ee_export_image(\n",
    "    aod, \n",
    "    filename=SAVE_DIR+output_file, \n",
    "    scale=1000, \n",
    "    region=coords, \n",
    "    file_per_band=False\n",
    ")"
   ]
  },
  {
   "cell_type": "code",
   "execution_count": 65,
   "metadata": {},
   "outputs": [
    {
     "data": {
      "text/html": [
       "\n",
       "            <style>\n",
       "                .geemap-dark {\n",
       "                    --jp-widgets-color: white;\n",
       "                    --jp-widgets-label-color: white;\n",
       "                    --jp-ui-font-color1: white;\n",
       "                    --jp-layout-color2: #454545;\n",
       "                    background-color: #383838;\n",
       "                }\n",
       "\n",
       "                .geemap-dark .jupyter-button {\n",
       "                    --jp-layout-color3: #383838;\n",
       "                }\n",
       "\n",
       "                .geemap-colab {\n",
       "                    background-color: var(--colab-primary-surface-color, white);\n",
       "                }\n",
       "\n",
       "                .geemap-colab .jupyter-button {\n",
       "                    --jp-layout-color3: var(--colab-primary-surface-color, white);\n",
       "                }\n",
       "            </style>\n",
       "            "
      ],
      "text/plain": [
       "<IPython.core.display.HTML object>"
      ]
     },
     "metadata": {},
     "output_type": "display_data"
    },
    {
     "data": {
      "image/png": "[encoded data removed]",
      "text/plain": [
       "<Figure size 800x600 with 2 Axes>"
      ]
     },
     "metadata": {},
     "output_type": "display_data"
    },
    {
     "data": {
      "text/plain": [
       "array([[408.67391304, 408.67391304, 411.35416667, 408.02040816,\n",
       "        297.02439024, 291.39534884, 291.39534884, 273.15384615,\n",
       "        415.25641026, 406.02380952, 397.74468085, 381.94444444,\n",
       "        381.94444444, 428.61538462, 414.30188679, 405.5       ,\n",
       "        377.50909091],\n",
       "       [354.5       , 354.5       , 403.64      , 415.2244898 ,\n",
       "        425.5       , 360.57142857,   0.        ,   0.        ,\n",
       "        279.41666667, 370.45238095, 332.64444444, 392.98148148,\n",
       "        392.98148148, 394.79245283, 427.55319149, 413.58      ,\n",
       "        408.31481481],\n",
       "       [345.23913043, 349.21276596, 349.21276596, 345.20930233,\n",
       "        362.91304348, 445.3       , 289.78787879, 289.78787879,\n",
       "        278.90625   , 265.91891892, 345.04651163, 337.36734694,\n",
       "        390.83673469, 390.83673469, 408.02      , 435.26      ,\n",
       "        416.25454545],\n",
       "       [344.4893617 , 301.81818182, 301.81818182, 289.525     ,\n",
       "        275.08108108, 109.4       , 255.46666667, 262.75862069,\n",
       "        262.75862069, 425.38095238, 362.75925926, 362.91304348,\n",
       "        355.84444444, 355.84444444, 401.23076923, 427.24489796,\n",
       "        413.87037037],\n",
       "       [345.02040816, 339.63829787, 295.14634146, 295.14634146,\n",
       "        125.2       ,   0.        , 268.2       ,   0.        ,\n",
       "          0.        , 269.42857143, 313.68085106, 319.38      ,\n",
       "        402.7826087 , 395.50943396, 395.50943396, 414.9245283 ,\n",
       "        421.        ],\n",
       "       [348.26086957, 312.5       , 350.38461538, 350.38461538,\n",
       "        250.72      , 393.35294118, 191.66666667, 286.        ,\n",
       "        278.97619048, 278.97619048, 313.        , 334.41666667,\n",
       "        302.7173913 , 256.6969697 , 256.6969697 , 452.02777778,\n",
       "        427.19047619],\n",
       "       [357.97959184, 358.14      , 296.24489796, 291.17647059,\n",
       "        291.17647059, 327.16666667, 334.39534884, 278.84444444,\n",
       "        281.        , 281.        , 324.52272727, 338.17073171,\n",
       "        255.92592593, 284.15151515, 294.07894737, 294.07894737,\n",
       "        405.04761905],\n",
       "       [360.13043478, 351.90697674, 277.13333333, 351.775     ,\n",
       "        351.775     , 276.65384615, 343.29545455, 284.22727273,\n",
       "        253.28125   , 269.97368421, 269.97368421, 275.17241379,\n",
       "        260.34615385, 279.67741935, 270.5862069 , 270.5862069 ,\n",
       "        309.61111111],\n",
       "       [366.7826087 , 363.63414634, 294.82758621, 363.23809524,\n",
       "        357.79545455, 357.79545455, 344.38461538, 281.75      ,\n",
       "        249.81818182, 301.38297872, 301.38297872, 274.875     ,\n",
       "        256.42105263, 268.19047619, 283.76923077, 262.42105263,\n",
       "        262.42105263],\n",
       "       [372.82857143, 374.90625   , 380.04444444, 310.56      ,\n",
       "        393.36842105, 393.36842105, 388.41860465, 366.33333333,\n",
       "        361.14583333, 362.82608696,   0.        ,   0.        ,\n",
       "        308.04166667, 267.19230769, 286.07407407, 266.63157895,\n",
       "        266.63157895],\n",
       "       [361.47222222, 266.11111111, 357.20588235, 297.08      ,\n",
       "        369.2195122 , 379.11627907, 379.11627907, 358.72093023,\n",
       "        373.60869565, 359.625     , 372.69767442, 372.69767442,\n",
       "        326.10344828, 303.76190476, 415.88888889, 378.05555556,\n",
       "        368.20588235],\n",
       "       [478.625     , 478.625     , 386.35714286, 381.85365854,\n",
       "        380.28571429, 371.38095238, 371.38095238, 369.2195122 ,\n",
       "        359.05      , 364.35714286, 351.02325581, 265.48275862,\n",
       "        265.48275862, 244.7       , 272.65      , 278.9       ,\n",
       "        287.54545455],\n",
       "       [274.2       , 274.2       , 275.03846154, 313.02777778,\n",
       "        377.24390244, 373.69047619, 361.26190476, 361.26190476,\n",
       "        347.2       , 353.30952381, 340.28205128, 302.04166667,\n",
       "        302.04166667, 275.97619048, 302.35714286, 288.61290323,\n",
       "        294.59090909],\n",
       "       [218.72222222, 275.30434783, 275.30434783, 268.18181818,\n",
       "        292.34375   , 385.85714286, 361.76923077, 361.76923077,\n",
       "        367.        , 347.27272727, 338.72093023, 258.84210526,\n",
       "        337.22641509, 337.22641509, 289.89795918, 292.12765957,\n",
       "        263.86666667],\n",
       "       [255.        , 230.07142857, 230.07142857, 271.66666667,\n",
       "        302.875     , 373.70967742, 355.96      , 325.06451613,\n",
       "        325.06451613, 322.36111111, 347.15909091, 335.72      ,\n",
       "        326.20833333, 326.20833333, 326.05769231, 320.0212766 ,\n",
       "        326.39583333]])"
      ]
     },
     "execution_count": 65,
     "metadata": {},
     "output_type": "execute_result"
    }
   ],
   "source": [
    "# tif. file path\n",
    "tif_file = \"..\\\\data\\\\air_quality\\AOD_NewYork_Summer2021.tif\"\n",
    "\n",
    "# Open tif. file\n",
    "with rasterio.open(tif_file) as src:\n",
    "    aod_data = src.read(1)  # Đọc band đầu tiên\n",
    "    profile = src.profile  # Metadata của file\n",
    "\n",
    "\n",
    "# print(\"Metadata\")\n",
    "# for key, value in profile.items():\n",
    "#     print(f\"{key}: {value}\")\n",
    "\n",
    "\n",
    "\n",
    "plt.figure(figsize=(8, 6))\n",
    "plt.imshow(aod_data, cmap=\"viridis\", interpolation=\"nearest\", vmax=500)\n",
    "plt.colorbar(label=\"AOD Value\")\n",
    "plt.title(\"AOD over New York (Summer 2021)\")\n",
    "plt.show()\n",
    "\n",
    "aod_data"
   ]
  }
 ],
 "metadata": {
  "kernelspec": {
   "display_name": ".venv",
   "language": "python",
   "name": "python3"
  },
  "language_info": {
   "codemirror_mode": {
    "name": "ipython",
    "version": 3
   },
   "file_extension": ".py",
   "mimetype": "text/x-python",
   "name": "python",
   "nbconvert_exporter": "python",
   "pygments_lexer": "ipython3",
   "version": "3.11.9"
  }
 },
 "nbformat": 4,
 "nbformat_minor": 2
}
