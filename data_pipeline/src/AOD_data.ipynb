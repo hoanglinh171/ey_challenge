{
 "cells": [
  {
   "cell_type": "code",
   "execution_count": null,
   "metadata": {},
   "outputs": [],
   "source": [
    "# %pip install ..\\..\\.venv\\GDAL-3.4.3-cp311-cp311-win_amd64.whl"
   ]
  },
  {
   "cell_type": "markdown",
   "metadata": {},
   "source": [
    "## Required Packages"
   ]
  },
  {
   "cell_type": "code",
   "execution_count": null,
   "metadata": {},
   "outputs": [],
   "source": [
    "import ee\n",
    "import geemap\n",
    "import rasterio\n",
    "import numpy as np\n",
    "import matplotlib.pyplot as plt\n",
    "\n",
    "import xarray\n",
    "# import netCDF4\n",
    "# import h5netcdf\n",
    "# from osgeo import gdal\n",
    "\n",
    "import yaml \n"
   ]
  },
  {
   "cell_type": "code",
   "execution_count": null,
   "metadata": {},
   "outputs": [
    {
     "data": {
      "text/html": [
       "\n",
       "            <style>\n",
       "                .geemap-dark {\n",
       "                    --jp-widgets-color: white;\n",
       "                    --jp-widgets-label-color: white;\n",
       "                    --jp-ui-font-color1: white;\n",
       "                    --jp-layout-color2: #454545;\n",
       "                    background-color: #383838;\n",
       "                }\n",
       "\n",
       "                .geemap-dark .jupyter-button {\n",
       "                    --jp-layout-color3: #383838;\n",
       "                }\n",
       "\n",
       "                .geemap-colab {\n",
       "                    background-color: var(--colab-primary-surface-color, white);\n",
       "                }\n",
       "\n",
       "                .geemap-colab .jupyter-button {\n",
       "                    --jp-layout-color3: var(--colab-primary-surface-color, white);\n",
       "                }\n",
       "            </style>\n",
       "            "
      ],
      "text/plain": [
       "<IPython.core.display.HTML object>"
      ]
     },
     "metadata": {},
     "output_type": "display_data"
    }
   ],
   "source": [
    "def auth_and_init(config):\n",
    "    proj = config['project']\n",
    "    ee.Authenticate()\n",
    "    ee.Initialize(project=proj)\n",
    "    \n",
    "def load_data(config, collections):\n",
    "    coords = config['coords']\n",
    "    time_window = config['time_window']\n",
    "    \n",
    "    gge_coords = ee.Geometry.Rectangle(coords=coords)\n",
    "    gge_time_window = ee.DateRange(time_window.split('/')[0], time_window.split('/')[1])\n",
    "\n",
    "    data_dict = {}\n",
    "    for key, value in collections.items():\n",
    "        collection_name = value['name']\n",
    "        bands = value['bands']\n",
    "\n",
    "        dataset = ee.ImageCollection(collection_name) \\\n",
    "            .filterDate(gge_time_window) \\\n",
    "            .filterBounds(gge_coords) \\\n",
    "            .select(bands) \\\n",
    "            .mean()\n",
    "        \n",
    "        data_dict[key] = dataset\n",
    "        \n",
    "    return data_dict\n",
    "\n",
    "if __name__ == \"__main__\":\n",
    "    with open(\"../config.yaml\", \"r\") as file:\n",
    "        config = yaml.safe_load(file)\n",
    "\n",
    "    config = config['gge_engine_config']\n",
    "    collections = config['collections']['aq_collections']\n",
    "    \n",
    "    auth_and_init(config)\n",
    "    data = load_data(config, collections)"
   ]
  },
  {
   "cell_type": "code",
   "execution_count": 10,
   "metadata": {},
   "outputs": [
    {
     "data": {
      "text/html": [
       "\n",
       "            <style>\n",
       "                .geemap-dark {\n",
       "                    --jp-widgets-color: white;\n",
       "                    --jp-widgets-label-color: white;\n",
       "                    --jp-ui-font-color1: white;\n",
       "                    --jp-layout-color2: #454545;\n",
       "                    background-color: #383838;\n",
       "                }\n",
       "\n",
       "                .geemap-dark .jupyter-button {\n",
       "                    --jp-layout-color3: #383838;\n",
       "                }\n",
       "\n",
       "                .geemap-colab {\n",
       "                    background-color: var(--colab-primary-surface-color, white);\n",
       "                }\n",
       "\n",
       "                .geemap-colab .jupyter-button {\n",
       "                    --jp-layout-color3: var(--colab-primary-surface-color, white);\n",
       "                }\n",
       "            </style>\n",
       "            "
      ],
      "text/plain": [
       "<IPython.core.display.HTML object>"
      ]
     },
     "metadata": {},
     "output_type": "display_data"
    },
    {
     "data": {
      "text/plain": [
       "{'co_collection': <ee.image.Image at 0x1bb9243ad90>,\n",
       " 'hcho_collection': <ee.image.Image at 0x1bb9243afd0>,\n",
       " 'no2_collection': <ee.image.Image at 0x1bb924a4490>,\n",
       " 'o3_collection': <ee.image.Image at 0x1bb924a52d0>,\n",
       " 'so2_collection': <ee.image.Image at 0x1bb924a5c10>,\n",
       " 'aod_collection': <ee.image.Image at 0x1bb924a6c50>}"
      ]
     },
     "execution_count": 10,
     "metadata": {},
     "output_type": "execute_result"
    }
   ],
   "source": [
    "data"
   ]
  },
  {
   "cell_type": "markdown",
   "metadata": {},
   "source": [
    "## Authenticaion and Initialization"
   ]
  },
  {
   "cell_type": "code",
   "execution_count": 11,
   "metadata": {},
   "outputs": [
    {
     "data": {
      "text/html": [
       "\n",
       "            <style>\n",
       "                .geemap-dark {\n",
       "                    --jp-widgets-color: white;\n",
       "                    --jp-widgets-label-color: white;\n",
       "                    --jp-ui-font-color1: white;\n",
       "                    --jp-layout-color2: #454545;\n",
       "                    background-color: #383838;\n",
       "                }\n",
       "\n",
       "                .geemap-dark .jupyter-button {\n",
       "                    --jp-layout-color3: #383838;\n",
       "                }\n",
       "\n",
       "                .geemap-colab {\n",
       "                    background-color: var(--colab-primary-surface-color, white);\n",
       "                }\n",
       "\n",
       "                .geemap-colab .jupyter-button {\n",
       "                    --jp-layout-color3: var(--colab-primary-surface-color, white);\n",
       "                }\n",
       "            </style>\n",
       "            "
      ],
      "text/plain": [
       "<IPython.core.display.HTML object>"
      ]
     },
     "metadata": {},
     "output_type": "display_data"
    }
   ],
   "source": [
    "# Authenticaion and Initialization\n",
    "ee.Authenticate()\n",
    "ee.Initialize(project=\"ee-leolincoln9804\")"
   ]
  },
  {
   "cell_type": "code",
   "execution_count": 12,
   "metadata": {},
   "outputs": [
    {
     "data": {
      "text/html": [
       "\n",
       "            <style>\n",
       "                .geemap-dark {\n",
       "                    --jp-widgets-color: white;\n",
       "                    --jp-widgets-label-color: white;\n",
       "                    --jp-ui-font-color1: white;\n",
       "                    --jp-layout-color2: #454545;\n",
       "                    background-color: #383838;\n",
       "                }\n",
       "\n",
       "                .geemap-dark .jupyter-button {\n",
       "                    --jp-layout-color3: #383838;\n",
       "                }\n",
       "\n",
       "                .geemap-colab {\n",
       "                    background-color: var(--colab-primary-surface-color, white);\n",
       "                }\n",
       "\n",
       "                .geemap-colab .jupyter-button {\n",
       "                    --jp-layout-color3: var(--colab-primary-surface-color, white);\n",
       "                }\n",
       "            </style>\n",
       "            "
      ],
      "text/plain": [
       "<IPython.core.display.HTML object>"
      ]
     },
     "metadata": {},
     "output_type": "display_data"
    }
   ],
   "source": [
    "# Define the Geological Range and Time Window\n",
    "coords = ee.Geometry.Rectangle([-74.01, 40.75, -73.86, 40.88])\n",
    "time_window = ee.DateRange(\"2021-06-01\", \"2021-09-01\")\n",
    "\n",
    "# Collection\n",
    "collection = \"MODIS/061/MCD19A2_GRANULES\""
   ]
  },
  {
   "cell_type": "markdown",
   "metadata": {},
   "source": [
    "## Data Retrieval"
   ]
  },
  {
   "cell_type": "code",
   "execution_count": 29,
   "metadata": {},
   "outputs": [
    {
     "data": {
      "text/html": [
       "\n",
       "            <style>\n",
       "                .geemap-dark {\n",
       "                    --jp-widgets-color: white;\n",
       "                    --jp-widgets-label-color: white;\n",
       "                    --jp-ui-font-color1: white;\n",
       "                    --jp-layout-color2: #454545;\n",
       "                    background-color: #383838;\n",
       "                }\n",
       "\n",
       "                .geemap-dark .jupyter-button {\n",
       "                    --jp-layout-color3: #383838;\n",
       "                }\n",
       "\n",
       "                .geemap-colab {\n",
       "                    background-color: var(--colab-primary-surface-color, white);\n",
       "                }\n",
       "\n",
       "                .geemap-colab .jupyter-button {\n",
       "                    --jp-layout-color3: var(--colab-primary-surface-color, white);\n",
       "                }\n",
       "            </style>\n",
       "            "
      ],
      "text/plain": [
       "<IPython.core.display.HTML object>"
      ]
     },
     "metadata": {},
     "output_type": "display_data"
    },
    {
     "data": {
      "text/plain": [
       "['Optical_Depth_047',\n",
       " 'Optical_Depth_055',\n",
       " 'AOD_Uncertainty',\n",
       " 'FineModeFraction',\n",
       " 'Column_WV',\n",
       " 'Injection_Height',\n",
       " 'AOD_QA',\n",
       " 'AngstromExp_470-780']"
      ]
     },
     "execution_count": 29,
     "metadata": {},
     "output_type": "execute_result"
    }
   ],
   "source": [
    "dataset = ee.ImageCollection(collection) \\\n",
    "    .filterDate(time_window) \\\n",
    "    .filterBounds(coords) \\\n",
    "    .median() \\\n",
    "\n",
    "bands_names = [\n",
    "    \"Optical_Depth_047\",\n",
    "    \"Optical_Depth_055\",\n",
    "    \"AOD_Uncertainty\",\n",
    "    \"FineModeFraction\",\n",
    "    \"Column_WV\",\n",
    "    \"Injection_Height\",\n",
    "    \"AOD_QA\",\n",
    "    \"AngstromExp_470-780\"\n",
    "    # \"cosSZA\",\n",
    "    # \"cosVZA\",\n",
    "    # \"RelAZ\",\n",
    "    # \"Scattering_Angle\",\n",
    "    # \"Glint_Angle\"\n",
    "]\n",
    "\n",
    "aod = dataset.select(bands_names)\n",
    "\n",
    "aod.bandNames().getInfo()"
   ]
  },
  {
   "cell_type": "code",
   "execution_count": 30,
   "metadata": {},
   "outputs": [
    {
     "data": {
      "text/html": [
       "\n",
       "            <style>\n",
       "                .geemap-dark {\n",
       "                    --jp-widgets-color: white;\n",
       "                    --jp-widgets-label-color: white;\n",
       "                    --jp-ui-font-color1: white;\n",
       "                    --jp-layout-color2: #454545;\n",
       "                    background-color: #383838;\n",
       "                }\n",
       "\n",
       "                .geemap-dark .jupyter-button {\n",
       "                    --jp-layout-color3: #383838;\n",
       "                }\n",
       "\n",
       "                .geemap-colab {\n",
       "                    background-color: var(--colab-primary-surface-color, white);\n",
       "                }\n",
       "\n",
       "                .geemap-colab .jupyter-button {\n",
       "                    --jp-layout-color3: var(--colab-primary-surface-color, white);\n",
       "                }\n",
       "            </style>\n",
       "            "
      ],
      "text/plain": [
       "<IPython.core.display.HTML object>"
      ]
     },
     "metadata": {},
     "output_type": "display_data"
    },
    {
     "name": "stdout",
     "output_type": "stream",
     "text": [
      "Generating URL ...\n",
      "Downloading data from https://earthengine.googleapis.com/v1/projects/ee-leolincoln9804/thumbnails/735823c2a3605accb0ab050324be2adb-103ce224024680d0eb5c331492516c06:getPixels\n",
      "Please wait ...\n",
      "An error occurred while downloading.\n"
     ]
    },
    {
     "ename": "JSONDecodeError",
     "evalue": "Expecting value: line 1 column 1 (char 0)",
     "output_type": "error",
     "traceback": [
      "\u001b[1;31m---------------------------------------------------------------------------\u001b[0m",
      "\u001b[1;31mJSONDecodeError\u001b[0m                           Traceback (most recent call last)",
      "File \u001b[1;32md:\\HW & Project\\EY Challenge\\ey_challenge\\.venv\\Lib\\site-packages\\requests\\models.py:974\u001b[0m, in \u001b[0;36mResponse.json\u001b[1;34m(self, **kwargs)\u001b[0m\n\u001b[0;32m    973\u001b[0m \u001b[38;5;28;01mtry\u001b[39;00m:\n\u001b[1;32m--> 974\u001b[0m     \u001b[38;5;28;01mreturn\u001b[39;00m \u001b[43mcomplexjson\u001b[49m\u001b[38;5;241;43m.\u001b[39;49m\u001b[43mloads\u001b[49m\u001b[43m(\u001b[49m\u001b[38;5;28;43mself\u001b[39;49m\u001b[38;5;241;43m.\u001b[39;49m\u001b[43mtext\u001b[49m\u001b[43m,\u001b[49m\u001b[43m \u001b[49m\u001b[38;5;241;43m*\u001b[39;49m\u001b[38;5;241;43m*\u001b[39;49m\u001b[43mkwargs\u001b[49m\u001b[43m)\u001b[49m\n\u001b[0;32m    975\u001b[0m \u001b[38;5;28;01mexcept\u001b[39;00m JSONDecodeError \u001b[38;5;28;01mas\u001b[39;00m e:\n\u001b[0;32m    976\u001b[0m     \u001b[38;5;66;03m# Catch JSON-related errors and raise as requests.JSONDecodeError\u001b[39;00m\n\u001b[0;32m    977\u001b[0m     \u001b[38;5;66;03m# This aliases json.JSONDecodeError and simplejson.JSONDecodeError\u001b[39;00m\n",
      "File \u001b[1;32mC:\\Program Files\\WindowsApps\\PythonSoftwareFoundation.Python.3.11_3.11.2544.0_x64__qbz5n2kfra8p0\\Lib\\json\\__init__.py:346\u001b[0m, in \u001b[0;36mloads\u001b[1;34m(s, cls, object_hook, parse_float, parse_int, parse_constant, object_pairs_hook, **kw)\u001b[0m\n\u001b[0;32m    343\u001b[0m \u001b[38;5;28;01mif\u001b[39;00m (\u001b[38;5;28mcls\u001b[39m \u001b[38;5;129;01mis\u001b[39;00m \u001b[38;5;28;01mNone\u001b[39;00m \u001b[38;5;129;01mand\u001b[39;00m object_hook \u001b[38;5;129;01mis\u001b[39;00m \u001b[38;5;28;01mNone\u001b[39;00m \u001b[38;5;129;01mand\u001b[39;00m\n\u001b[0;32m    344\u001b[0m         parse_int \u001b[38;5;129;01mis\u001b[39;00m \u001b[38;5;28;01mNone\u001b[39;00m \u001b[38;5;129;01mand\u001b[39;00m parse_float \u001b[38;5;129;01mis\u001b[39;00m \u001b[38;5;28;01mNone\u001b[39;00m \u001b[38;5;129;01mand\u001b[39;00m\n\u001b[0;32m    345\u001b[0m         parse_constant \u001b[38;5;129;01mis\u001b[39;00m \u001b[38;5;28;01mNone\u001b[39;00m \u001b[38;5;129;01mand\u001b[39;00m object_pairs_hook \u001b[38;5;129;01mis\u001b[39;00m \u001b[38;5;28;01mNone\u001b[39;00m \u001b[38;5;129;01mand\u001b[39;00m \u001b[38;5;129;01mnot\u001b[39;00m kw):\n\u001b[1;32m--> 346\u001b[0m     \u001b[38;5;28;01mreturn\u001b[39;00m \u001b[43m_default_decoder\u001b[49m\u001b[38;5;241;43m.\u001b[39;49m\u001b[43mdecode\u001b[49m\u001b[43m(\u001b[49m\u001b[43ms\u001b[49m\u001b[43m)\u001b[49m\n\u001b[0;32m    347\u001b[0m \u001b[38;5;28;01mif\u001b[39;00m \u001b[38;5;28mcls\u001b[39m \u001b[38;5;129;01mis\u001b[39;00m \u001b[38;5;28;01mNone\u001b[39;00m:\n",
      "File \u001b[1;32mC:\\Program Files\\WindowsApps\\PythonSoftwareFoundation.Python.3.11_3.11.2544.0_x64__qbz5n2kfra8p0\\Lib\\json\\decoder.py:337\u001b[0m, in \u001b[0;36mJSONDecoder.decode\u001b[1;34m(self, s, _w)\u001b[0m\n\u001b[0;32m    333\u001b[0m \u001b[38;5;250m\u001b[39m\u001b[38;5;124;03m\"\"\"Return the Python representation of ``s`` (a ``str`` instance\u001b[39;00m\n\u001b[0;32m    334\u001b[0m \u001b[38;5;124;03mcontaining a JSON document).\u001b[39;00m\n\u001b[0;32m    335\u001b[0m \n\u001b[0;32m    336\u001b[0m \u001b[38;5;124;03m\"\"\"\u001b[39;00m\n\u001b[1;32m--> 337\u001b[0m obj, end \u001b[38;5;241m=\u001b[39m \u001b[38;5;28;43mself\u001b[39;49m\u001b[38;5;241;43m.\u001b[39;49m\u001b[43mraw_decode\u001b[49m\u001b[43m(\u001b[49m\u001b[43ms\u001b[49m\u001b[43m,\u001b[49m\u001b[43m \u001b[49m\u001b[43midx\u001b[49m\u001b[38;5;241;43m=\u001b[39;49m\u001b[43m_w\u001b[49m\u001b[43m(\u001b[49m\u001b[43ms\u001b[49m\u001b[43m,\u001b[49m\u001b[43m \u001b[49m\u001b[38;5;241;43m0\u001b[39;49m\u001b[43m)\u001b[49m\u001b[38;5;241;43m.\u001b[39;49m\u001b[43mend\u001b[49m\u001b[43m(\u001b[49m\u001b[43m)\u001b[49m\u001b[43m)\u001b[49m\n\u001b[0;32m    338\u001b[0m end \u001b[38;5;241m=\u001b[39m _w(s, end)\u001b[38;5;241m.\u001b[39mend()\n",
      "File \u001b[1;32mC:\\Program Files\\WindowsApps\\PythonSoftwareFoundation.Python.3.11_3.11.2544.0_x64__qbz5n2kfra8p0\\Lib\\json\\decoder.py:355\u001b[0m, in \u001b[0;36mJSONDecoder.raw_decode\u001b[1;34m(self, s, idx)\u001b[0m\n\u001b[0;32m    354\u001b[0m \u001b[38;5;28;01mexcept\u001b[39;00m \u001b[38;5;167;01mStopIteration\u001b[39;00m \u001b[38;5;28;01mas\u001b[39;00m err:\n\u001b[1;32m--> 355\u001b[0m     \u001b[38;5;28;01mraise\u001b[39;00m JSONDecodeError(\u001b[38;5;124m\"\u001b[39m\u001b[38;5;124mExpecting value\u001b[39m\u001b[38;5;124m\"\u001b[39m, s, err\u001b[38;5;241m.\u001b[39mvalue) \u001b[38;5;28;01mfrom\u001b[39;00m\u001b[38;5;250m \u001b[39m\u001b[38;5;28;01mNone\u001b[39;00m\n\u001b[0;32m    356\u001b[0m \u001b[38;5;28;01mreturn\u001b[39;00m obj, end\n",
      "\u001b[1;31mJSONDecodeError\u001b[0m: Expecting value: line 1 column 1 (char 0)",
      "\nDuring handling of the above exception, another exception occurred:\n",
      "\u001b[1;31mJSONDecodeError\u001b[0m                           Traceback (most recent call last)",
      "Cell \u001b[1;32mIn[30], line 4\u001b[0m\n\u001b[0;32m      1\u001b[0m SAVE_DIR \u001b[38;5;241m=\u001b[39m \u001b[38;5;124m\"\u001b[39m\u001b[38;5;124m../data/AOD/air_quality/\u001b[39m\u001b[38;5;124m\"\u001b[39m\n\u001b[0;32m      3\u001b[0m output_file \u001b[38;5;241m=\u001b[39m \u001b[38;5;124m\"\u001b[39m\u001b[38;5;124mAOD_NewYork_Summer2021(median).tif\u001b[39m\u001b[38;5;124m\"\u001b[39m\n\u001b[1;32m----> 4\u001b[0m \u001b[43mgeemap\u001b[49m\u001b[38;5;241;43m.\u001b[39;49m\u001b[43mee_export_image\u001b[49m\u001b[43m(\u001b[49m\n\u001b[0;32m      5\u001b[0m \u001b[43m    \u001b[49m\u001b[43maod\u001b[49m\u001b[43m,\u001b[49m\u001b[43m \u001b[49m\n\u001b[0;32m      6\u001b[0m \u001b[43m    \u001b[49m\u001b[43mfilename\u001b[49m\u001b[38;5;241;43m=\u001b[39;49m\u001b[43mSAVE_DIR\u001b[49m\u001b[38;5;241;43m+\u001b[39;49m\u001b[43moutput_file\u001b[49m\u001b[43m,\u001b[49m\u001b[43m \u001b[49m\n\u001b[0;32m      7\u001b[0m \u001b[43m    \u001b[49m\u001b[43mscale\u001b[49m\u001b[38;5;241;43m=\u001b[39;49m\u001b[38;5;241;43m1000\u001b[39;49m\u001b[43m,\u001b[49m\u001b[43m \u001b[49m\n\u001b[0;32m      8\u001b[0m \u001b[43m    \u001b[49m\u001b[43mregion\u001b[49m\u001b[38;5;241;43m=\u001b[39;49m\u001b[43mcoords\u001b[49m\u001b[43m,\u001b[49m\u001b[43m \u001b[49m\n\u001b[0;32m      9\u001b[0m \u001b[43m    \u001b[49m\u001b[43mfile_per_band\u001b[49m\u001b[38;5;241;43m=\u001b[39;49m\u001b[38;5;28;43;01mFalse\u001b[39;49;00m\n\u001b[0;32m     10\u001b[0m \u001b[43m)\u001b[49m\n",
      "File \u001b[1;32md:\\HW & Project\\EY Challenge\\ey_challenge\\.venv\\Lib\\site-packages\\geemap\\common.py:134\u001b[0m, in \u001b[0;36mee_export_image\u001b[1;34m(ee_object, filename, scale, crs, crs_transform, region, dimensions, file_per_band, format, unzip, unmask_value, timeout, proxies)\u001b[0m\n\u001b[0;32m    132\u001b[0m     \u001b[38;5;28mprint\u001b[39m(\u001b[38;5;124m\"\u001b[39m\u001b[38;5;124mAn error occurred while downloading.\u001b[39m\u001b[38;5;124m\"\u001b[39m)\n\u001b[0;32m    133\u001b[0m     \u001b[38;5;28;01mif\u001b[39;00m r \u001b[38;5;129;01mis\u001b[39;00m \u001b[38;5;129;01mnot\u001b[39;00m \u001b[38;5;28;01mNone\u001b[39;00m:\n\u001b[1;32m--> 134\u001b[0m         \u001b[38;5;28mprint\u001b[39m(\u001b[43mr\u001b[49m\u001b[38;5;241;43m.\u001b[39;49m\u001b[43mjson\u001b[49m\u001b[43m(\u001b[49m\u001b[43m)\u001b[49m[\u001b[38;5;124m\"\u001b[39m\u001b[38;5;124merror\u001b[39m\u001b[38;5;124m\"\u001b[39m][\u001b[38;5;124m\"\u001b[39m\u001b[38;5;124mmessage\u001b[39m\u001b[38;5;124m\"\u001b[39m])\n\u001b[0;32m    135\u001b[0m     \u001b[38;5;28;01mreturn\u001b[39;00m\n\u001b[0;32m    137\u001b[0m \u001b[38;5;28;01mtry\u001b[39;00m:\n",
      "File \u001b[1;32md:\\HW & Project\\EY Challenge\\ey_challenge\\.venv\\Lib\\site-packages\\requests\\models.py:978\u001b[0m, in \u001b[0;36mResponse.json\u001b[1;34m(self, **kwargs)\u001b[0m\n\u001b[0;32m    974\u001b[0m     \u001b[38;5;28;01mreturn\u001b[39;00m complexjson\u001b[38;5;241m.\u001b[39mloads(\u001b[38;5;28mself\u001b[39m\u001b[38;5;241m.\u001b[39mtext, \u001b[38;5;241m*\u001b[39m\u001b[38;5;241m*\u001b[39mkwargs)\n\u001b[0;32m    975\u001b[0m \u001b[38;5;28;01mexcept\u001b[39;00m JSONDecodeError \u001b[38;5;28;01mas\u001b[39;00m e:\n\u001b[0;32m    976\u001b[0m     \u001b[38;5;66;03m# Catch JSON-related errors and raise as requests.JSONDecodeError\u001b[39;00m\n\u001b[0;32m    977\u001b[0m     \u001b[38;5;66;03m# This aliases json.JSONDecodeError and simplejson.JSONDecodeError\u001b[39;00m\n\u001b[1;32m--> 978\u001b[0m     \u001b[38;5;28;01mraise\u001b[39;00m RequestsJSONDecodeError(e\u001b[38;5;241m.\u001b[39mmsg, e\u001b[38;5;241m.\u001b[39mdoc, e\u001b[38;5;241m.\u001b[39mpos)\n",
      "\u001b[1;31mJSONDecodeError\u001b[0m: Expecting value: line 1 column 1 (char 0)"
     ]
    }
   ],
   "source": [
    "SAVE_DIR = \"../data/AOD/air_quality/\"\n",
    "\n",
    "output_file = \"AOD_NewYork_Summer2021(median).tif\"\n",
    "geemap.ee_export_image(\n",
    "    aod, \n",
    "    filename=SAVE_DIR+output_file, \n",
    "    scale=1000, \n",
    "    region=coords, \n",
    "    file_per_band=False\n",
    ")"
   ]
  },
  {
   "cell_type": "code",
   "execution_count": 31,
   "metadata": {},
   "outputs": [
    {
     "data": {
      "text/html": [
       "\n",
       "            <style>\n",
       "                .geemap-dark {\n",
       "                    --jp-widgets-color: white;\n",
       "                    --jp-widgets-label-color: white;\n",
       "                    --jp-ui-font-color1: white;\n",
       "                    --jp-layout-color2: #454545;\n",
       "                    background-color: #383838;\n",
       "                }\n",
       "\n",
       "                .geemap-dark .jupyter-button {\n",
       "                    --jp-layout-color3: #383838;\n",
       "                }\n",
       "\n",
       "                .geemap-colab {\n",
       "                    background-color: var(--colab-primary-surface-color, white);\n",
       "                }\n",
       "\n",
       "                .geemap-colab .jupyter-button {\n",
       "                    --jp-layout-color3: var(--colab-primary-surface-color, white);\n",
       "                }\n",
       "            </style>\n",
       "            "
      ],
      "text/plain": [
       "<IPython.core.display.HTML object>"
      ]
     },
     "metadata": {},
     "output_type": "display_data"
    },
    {
     "data": {
      "image/png": "[encoded data removed]",
      "text/plain": [
       "<Figure size 800x600 with 2 Axes>"
      ]
     },
     "metadata": {},
     "output_type": "display_data"
    },
    {
     "data": {
      "text/plain": [
       "array([[264. , 264. , 299. , 269. , 258. , 275. , 275. , 241.5, 287. ,\n",
       "        285. , 282. , 287. , 287. , 260. , 319. , 309.5, 276. ],\n",
       "       [297. , 297. , 290.5, 276. , 277.5, 269. ,   0. ,   0. , 271.5,\n",
       "        276. , 238. , 282. , 282. , 291. , 309. , 300. , 294. ],\n",
       "       [252. , 280. , 280. , 268. , 268. , 314. , 263. , 263. , 249.5,\n",
       "        243. , 234. , 236. , 273. , 273. , 293. , 322. , 323. ],\n",
       "       [274. , 277.5, 277.5, 248.5, 264. , 123. , 235. , 224. , 224. ,\n",
       "        270.5, 284.5, 259.5, 244. , 244. , 276.5, 300. , 314.5],\n",
       "       [253. , 276. , 261. , 261. , 127. ,   0. , 247.5,   0. ,   0. ,\n",
       "        252.5, 249. , 255.5, 244.5, 263. , 263. , 305. , 309. ],\n",
       "       [280.5, 305. , 242. , 242. , 209. , 191. , 191. , 261. , 245.5,\n",
       "        245.5, 260. , 275. , 286. , 217. , 217. , 262. , 286.5],\n",
       "       [294. , 308.5, 287. , 282.5, 282.5, 235. , 253. , 246. , 248.5,\n",
       "        248.5, 258.5, 257. , 223. , 266. , 291.5, 291.5, 307.5],\n",
       "       [308. , 278. , 251. , 290.5, 290.5, 259. , 246. , 251.5, 210.5,\n",
       "        240. , 240. , 232. , 204. , 258. , 243. , 243. , 269.5],\n",
       "       [305.5, 291. , 254. , 293. , 284. , 284. , 292.5, 267. , 232. ,\n",
       "        282. , 282. , 240.5, 227. , 224. , 254. , 248. , 248. ],\n",
       "       [266. , 275.5, 296. , 295. , 312. , 312. , 315. , 302. , 287.5,\n",
       "        291. ,   0. ,   0. , 299. , 258. , 300. , 244. , 244. ],\n",
       "       [255.5, 234.5, 257.5, 248. , 296. , 310. , 310. , 279. , 314. ,\n",
       "        305.5, 304. , 304. , 314. , 303. , 275. , 314.5, 272.5],\n",
       "       [287.5, 287.5, 275. , 281. , 286.5, 315. , 315. , 297. , 269.5,\n",
       "        289.5, 278. , 257. , 257. , 250. , 280.5, 271. , 285. ],\n",
       "       [256. , 256. , 261. , 263.5, 284. , 295.5, 271. , 271. , 252.5,\n",
       "        264.5, 247. , 281. , 281. , 262.5, 298. , 289. , 321. ],\n",
       "       [203.5, 227. , 227. , 229. , 255.5, 279. , 287. , 287. , 257. ,\n",
       "        241.5, 234. , 224. , 264. , 264. , 267. , 263. , 249. ],\n",
       "       [253. , 203.5, 203.5, 279. , 298.5, 276. , 219. , 233. , 233. ,\n",
       "        210. , 249.5, 246. , 250. , 250. , 259.5, 249. , 264.5]])"
      ]
     },
     "execution_count": 31,
     "metadata": {},
     "output_type": "execute_result"
    }
   ],
   "source": [
    "# tif. file path\n",
    "tif_file = \"..\\\\data\\\\air_quality\\\\AOD\\\\AOD_NewYork_Summer2021(median).tif\"\n",
    "\n",
    "# Open tif. file\n",
    "with rasterio.open(tif_file) as src:\n",
    "    aod_data = src.read(1)  # Đọc band đầu tiên\n",
    "    profile = src.profile  # Metadata của file\n",
    "    bounds = src.bounds\n",
    "\n",
    "\n",
    "# print(\"Metadata\")\n",
    "# for key, value in profile.items():\n",
    "#     print(f\"{key}: {value}\")\n",
    "\n",
    "\n",
    "\n",
    "plt.figure(figsize=(8, 6))\n",
    "plt.imshow(aod_data, cmap=\"viridis\", interpolation=\"nearest\", \n",
    "           extent=[bounds.left, bounds.right, bounds.bottom, bounds.top])\n",
    "plt.colorbar(label=\"AOD Value\")\n",
    "plt.title(\"AOD over New York (Summer 2021)\")\n",
    "plt.show()\n",
    "\n",
    "aod_data"
   ]
  },
  {
   "cell_type": "code",
   "execution_count": 32,
   "metadata": {},
   "outputs": [
    {
     "data": {
      "text/html": [
       "\n",
       "            <style>\n",
       "                .geemap-dark {\n",
       "                    --jp-widgets-color: white;\n",
       "                    --jp-widgets-label-color: white;\n",
       "                    --jp-ui-font-color1: white;\n",
       "                    --jp-layout-color2: #454545;\n",
       "                    background-color: #383838;\n",
       "                }\n",
       "\n",
       "                .geemap-dark .jupyter-button {\n",
       "                    --jp-layout-color3: #383838;\n",
       "                }\n",
       "\n",
       "                .geemap-colab {\n",
       "                    background-color: var(--colab-primary-surface-color, white);\n",
       "                }\n",
       "\n",
       "                .geemap-colab .jupyter-button {\n",
       "                    --jp-layout-color3: var(--colab-primary-surface-color, white);\n",
       "                }\n",
       "            </style>\n",
       "            "
      ],
      "text/plain": [
       "<IPython.core.display.HTML object>"
      ]
     },
     "metadata": {},
     "output_type": "display_data"
    },
    {
     "data": {
      "image/png": "[encoded data removed]",
      "text/plain": [
       "<Figure size 800x600 with 2 Axes>"
      ]
     },
     "metadata": {},
     "output_type": "display_data"
    },
    {
     "data": {
      "text/plain": [
       "array([[408.67391304, 408.67391304, 411.35416667, 408.02040816,\n",
       "        297.02439024, 291.39534884, 291.39534884, 273.15384615,\n",
       "        415.25641026, 406.02380952, 397.74468085, 381.94444444,\n",
       "        381.94444444, 428.61538462, 414.30188679, 405.5       ,\n",
       "        377.50909091],\n",
       "       [354.5       , 354.5       , 403.64      , 415.2244898 ,\n",
       "        425.5       , 360.57142857,   0.        ,   0.        ,\n",
       "        279.41666667, 370.45238095, 332.64444444, 392.98148148,\n",
       "        392.98148148, 394.79245283, 427.55319149, 413.58      ,\n",
       "        408.31481481],\n",
       "       [345.23913043, 349.21276596, 349.21276596, 345.20930233,\n",
       "        362.91304348, 445.3       , 289.78787879, 289.78787879,\n",
       "        278.90625   , 265.91891892, 345.04651163, 337.36734694,\n",
       "        390.83673469, 390.83673469, 408.02      , 435.26      ,\n",
       "        416.25454545],\n",
       "       [344.4893617 , 301.81818182, 301.81818182, 289.525     ,\n",
       "        275.08108108, 109.4       , 255.46666667, 262.75862069,\n",
       "        262.75862069, 425.38095238, 362.75925926, 362.91304348,\n",
       "        355.84444444, 355.84444444, 401.23076923, 427.24489796,\n",
       "        413.87037037],\n",
       "       [345.02040816, 339.63829787, 295.14634146, 295.14634146,\n",
       "        125.2       ,   0.        , 268.2       ,   0.        ,\n",
       "          0.        , 269.42857143, 313.68085106, 319.38      ,\n",
       "        402.7826087 , 395.50943396, 395.50943396, 414.9245283 ,\n",
       "        421.        ],\n",
       "       [348.26086957, 312.5       , 350.38461538, 350.38461538,\n",
       "        250.72      , 393.35294118, 191.66666667, 286.        ,\n",
       "        278.97619048, 278.97619048, 313.        , 334.41666667,\n",
       "        302.7173913 , 256.6969697 , 256.6969697 , 452.02777778,\n",
       "        427.19047619],\n",
       "       [357.97959184, 358.14      , 296.24489796, 291.17647059,\n",
       "        291.17647059, 327.16666667, 334.39534884, 278.84444444,\n",
       "        281.        , 281.        , 324.52272727, 338.17073171,\n",
       "        255.92592593, 284.15151515, 294.07894737, 294.07894737,\n",
       "        405.04761905],\n",
       "       [360.13043478, 351.90697674, 277.13333333, 351.775     ,\n",
       "        351.775     , 276.65384615, 343.29545455, 284.22727273,\n",
       "        253.28125   , 269.97368421, 269.97368421, 275.17241379,\n",
       "        260.34615385, 279.67741935, 270.5862069 , 270.5862069 ,\n",
       "        309.61111111],\n",
       "       [366.7826087 , 363.63414634, 294.82758621, 363.23809524,\n",
       "        357.79545455, 357.79545455, 344.38461538, 281.75      ,\n",
       "        249.81818182, 301.38297872, 301.38297872, 274.875     ,\n",
       "        256.42105263, 268.19047619, 283.76923077, 262.42105263,\n",
       "        262.42105263],\n",
       "       [372.82857143, 374.90625   , 380.04444444, 310.56      ,\n",
       "        393.36842105, 393.36842105, 388.41860465, 366.33333333,\n",
       "        361.14583333, 362.82608696,   0.        ,   0.        ,\n",
       "        308.04166667, 267.19230769, 286.07407407, 266.63157895,\n",
       "        266.63157895],\n",
       "       [361.47222222, 266.11111111, 357.20588235, 297.08      ,\n",
       "        369.2195122 , 379.11627907, 379.11627907, 358.72093023,\n",
       "        373.60869565, 359.625     , 372.69767442, 372.69767442,\n",
       "        326.10344828, 303.76190476, 415.88888889, 378.05555556,\n",
       "        368.20588235],\n",
       "       [478.625     , 478.625     , 386.35714286, 381.85365854,\n",
       "        380.28571429, 371.38095238, 371.38095238, 369.2195122 ,\n",
       "        359.05      , 364.35714286, 351.02325581, 265.48275862,\n",
       "        265.48275862, 244.7       , 272.65      , 278.9       ,\n",
       "        287.54545455],\n",
       "       [274.2       , 274.2       , 275.03846154, 313.02777778,\n",
       "        377.24390244, 373.69047619, 361.26190476, 361.26190476,\n",
       "        347.2       , 353.30952381, 340.28205128, 302.04166667,\n",
       "        302.04166667, 275.97619048, 302.35714286, 288.61290323,\n",
       "        294.59090909],\n",
       "       [218.72222222, 275.30434783, 275.30434783, 268.18181818,\n",
       "        292.34375   , 385.85714286, 361.76923077, 361.76923077,\n",
       "        367.        , 347.27272727, 338.72093023, 258.84210526,\n",
       "        337.22641509, 337.22641509, 289.89795918, 292.12765957,\n",
       "        263.86666667],\n",
       "       [255.        , 230.07142857, 230.07142857, 271.66666667,\n",
       "        302.875     , 373.70967742, 355.96      , 325.06451613,\n",
       "        325.06451613, 322.36111111, 347.15909091, 335.72      ,\n",
       "        326.20833333, 326.20833333, 326.05769231, 320.0212766 ,\n",
       "        326.39583333]])"
      ]
     },
     "execution_count": 32,
     "metadata": {},
     "output_type": "execute_result"
    }
   ],
   "source": [
    "# tif. file path\n",
    "tif_file = \"..\\\\data\\\\air_quality\\\\AOD\\\\AOD_NewYork_Summer2021(mean).tif\"\n",
    "\n",
    "# Open tif. file\n",
    "with rasterio.open(tif_file) as src:\n",
    "    aod_data = src.read(1)  # Đọc band đầu tiên\n",
    "    profile = src.profile  # Metadata của file\n",
    "    bounds = src.bounds\n",
    "\n",
    "\n",
    "# print(\"Metadata\")\n",
    "# for key, value in profile.items():\n",
    "#     print(f\"{key}: {value}\")\n",
    "\n",
    "\n",
    "\n",
    "plt.figure(figsize=(8, 6))\n",
    "plt.imshow(aod_data, cmap=\"viridis\", interpolation=\"nearest\", \n",
    "           extent=[bounds.left, bounds.right, bounds.bottom, bounds.top])\n",
    "plt.colorbar(label=\"AOD Value\")\n",
    "plt.title(\"AOD over New York (Summer 2021)\")\n",
    "plt.show()\n",
    "\n",
    "aod_data"
   ]
  }
 ],
 "metadata": {
  "kernelspec": {
   "display_name": ".venv",
   "language": "python",
   "name": "python3"
  },
  "language_info": {
   "codemirror_mode": {
    "name": "ipython",
    "version": 3
   },
   "file_extension": ".py",
   "mimetype": "text/x-python",
   "name": "python",
   "nbconvert_exporter": "python",
   "pygments_lexer": "ipython3",
   "version": "3.11.9"
  }
 },
 "nbformat": 4,
 "nbformat_minor": 2
}
