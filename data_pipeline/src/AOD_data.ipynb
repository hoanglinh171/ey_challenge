{
 "cells": [
  {
   "cell_type": "markdown",
   "metadata": {},
   "source": [
    "## Required Packages"
   ]
  },
  {
   "cell_type": "code",
   "execution_count": 2,
   "metadata": {},
   "outputs": [],
   "source": [
    "import ee\n",
    "import geemap\n",
    "import rasterio\n",
    "import numpy as np\n",
    "import matplotlib.pyplot as plt\n"
   ]
  },
  {
   "cell_type": "markdown",
   "metadata": {},
   "source": [
    "## Authenticaion and Initialization"
   ]
  },
  {
   "cell_type": "code",
   "execution_count": 3,
   "metadata": {},
   "outputs": [
    {
     "data": {
      "text/html": [
       "\n",
       "            <style>\n",
       "                .geemap-dark {\n",
       "                    --jp-widgets-color: white;\n",
       "                    --jp-widgets-label-color: white;\n",
       "                    --jp-ui-font-color1: white;\n",
       "                    --jp-layout-color2: #454545;\n",
       "                    background-color: #383838;\n",
       "                }\n",
       "\n",
       "                .geemap-dark .jupyter-button {\n",
       "                    --jp-layout-color3: #383838;\n",
       "                }\n",
       "\n",
       "                .geemap-colab {\n",
       "                    background-color: var(--colab-primary-surface-color, white);\n",
       "                }\n",
       "\n",
       "                .geemap-colab .jupyter-button {\n",
       "                    --jp-layout-color3: var(--colab-primary-surface-color, white);\n",
       "                }\n",
       "            </style>\n",
       "            "
      ],
      "text/plain": [
       "<IPython.core.display.HTML object>"
      ]
     },
     "metadata": {},
     "output_type": "display_data"
    }
   ],
   "source": [
    "# Authenticaion and Initialization\n",
    "ee.Authenticate()\n",
    "ee.Initialize(project=\"ee-leolincoln9804\")"
   ]
  },
  {
   "cell_type": "code",
   "execution_count": 4,
   "metadata": {},
   "outputs": [
    {
     "data": {
      "text/html": [
       "\n",
       "            <style>\n",
       "                .geemap-dark {\n",
       "                    --jp-widgets-color: white;\n",
       "                    --jp-widgets-label-color: white;\n",
       "                    --jp-ui-font-color1: white;\n",
       "                    --jp-layout-color2: #454545;\n",
       "                    background-color: #383838;\n",
       "                }\n",
       "\n",
       "                .geemap-dark .jupyter-button {\n",
       "                    --jp-layout-color3: #383838;\n",
       "                }\n",
       "\n",
       "                .geemap-colab {\n",
       "                    background-color: var(--colab-primary-surface-color, white);\n",
       "                }\n",
       "\n",
       "                .geemap-colab .jupyter-button {\n",
       "                    --jp-layout-color3: var(--colab-primary-surface-color, white);\n",
       "                }\n",
       "            </style>\n",
       "            "
      ],
      "text/plain": [
       "<IPython.core.display.HTML object>"
      ]
     },
     "metadata": {},
     "output_type": "display_data"
    }
   ],
   "source": [
    "# Define the Geological Range and Time Window\n",
    "coords = ee.Geometry.Rectangle([-74.01, 40.75, -73.86, 40.88])\n",
    "time_window = ee.DateRange(\"2021-06-01\", \"2021-09-01\")\n",
    "\n",
    "# Collection\n",
    "collection = \"MODIS/061/MCD19A2_GRANULES\""
   ]
  },
  {
   "cell_type": "markdown",
   "metadata": {},
   "source": [
    "## Data Retrieval"
   ]
  },
  {
   "cell_type": "code",
   "execution_count": 5,
   "metadata": {},
   "outputs": [
    {
     "data": {
      "text/html": [
       "\n",
       "            <style>\n",
       "                .geemap-dark {\n",
       "                    --jp-widgets-color: white;\n",
       "                    --jp-widgets-label-color: white;\n",
       "                    --jp-ui-font-color1: white;\n",
       "                    --jp-layout-color2: #454545;\n",
       "                    background-color: #383838;\n",
       "                }\n",
       "\n",
       "                .geemap-dark .jupyter-button {\n",
       "                    --jp-layout-color3: #383838;\n",
       "                }\n",
       "\n",
       "                .geemap-colab {\n",
       "                    background-color: var(--colab-primary-surface-color, white);\n",
       "                }\n",
       "\n",
       "                .geemap-colab .jupyter-button {\n",
       "                    --jp-layout-color3: var(--colab-primary-surface-color, white);\n",
       "                }\n",
       "            </style>\n",
       "            "
      ],
      "text/plain": [
       "<IPython.core.display.HTML object>"
      ]
     },
     "metadata": {},
     "output_type": "display_data"
    },
    {
     "data": {
      "text/plain": [
       "['Optical_Depth_047',\n",
       " 'Optical_Depth_055',\n",
       " 'AOD_Uncertainty',\n",
       " 'FineModeFraction',\n",
       " 'Column_WV',\n",
       " 'Injection_Height',\n",
       " 'AOD_QA',\n",
       " 'AngstromExp_470-780']"
      ]
     },
     "execution_count": 5,
     "metadata": {},
     "output_type": "execute_result"
    }
   ],
   "source": [
    "dataset = ee.ImageCollection(collection) \\\n",
    "    .filterDate(time_window) \\\n",
    "    .filterBounds(coords) \\\n",
    "    .mean() \\\n",
    "\n",
    "bands_names = [\n",
    "    \"Optical_Depth_047\",\n",
    "    \"Optical_Depth_055\",\n",
    "    \"AOD_Uncertainty\",\n",
    "    \"FineModeFraction\",\n",
    "    \"Column_WV\",\n",
    "    \"Injection_Height\",\n",
    "    \"AOD_QA\",\n",
    "    \"AngstromExp_470-780\"\n",
    "    # \"cosSZA\",\n",
    "    # \"cosVZA\",\n",
    "    # \"RelAZ\",\n",
    "    # \"Scattering_Angle\",\n",
    "    # \"Glint_Angle\"\n",
    "]\n",
    "\n",
    "aod = dataset.select(bands_names)\n",
    "\n",
    "aod.bandNames().getInfo()"
   ]
  },
  {
   "cell_type": "code",
   "execution_count": 6,
   "metadata": {},
   "outputs": [
    {
     "data": {
      "text/html": [
       "\n",
       "            <style>\n",
       "                .geemap-dark {\n",
       "                    --jp-widgets-color: white;\n",
       "                    --jp-widgets-label-color: white;\n",
       "                    --jp-ui-font-color1: white;\n",
       "                    --jp-layout-color2: #454545;\n",
       "                    background-color: #383838;\n",
       "                }\n",
       "\n",
       "                .geemap-dark .jupyter-button {\n",
       "                    --jp-layout-color3: #383838;\n",
       "                }\n",
       "\n",
       "                .geemap-colab {\n",
       "                    background-color: var(--colab-primary-surface-color, white);\n",
       "                }\n",
       "\n",
       "                .geemap-colab .jupyter-button {\n",
       "                    --jp-layout-color3: var(--colab-primary-surface-color, white);\n",
       "                }\n",
       "            </style>\n",
       "            "
      ],
      "text/plain": [
       "<IPython.core.display.HTML object>"
      ]
     },
     "metadata": {},
     "output_type": "display_data"
    },
    {
     "name": "stdout",
     "output_type": "stream",
     "text": [
      "Generating URL ...\n",
      "Downloading data from https://earthengine.googleapis.com/v1/projects/ee-leolincoln9804/thumbnails/58780daf6025f144844a06bd13ab5e5f-02d6abe261f4eaebafaaaa92e23f8d3d:getPixels\n",
      "Please wait ...\n",
      "An error occurred while downloading.\n"
     ]
    },
    {
     "ename": "JSONDecodeError",
     "evalue": "Expecting value: line 1 column 1 (char 0)",
     "output_type": "error",
     "traceback": [
      "\u001b[1;31m---------------------------------------------------------------------------\u001b[0m",
      "\u001b[1;31mJSONDecodeError\u001b[0m                           Traceback (most recent call last)",
      "File \u001b[1;32md:\\HW & Project\\EY Challenge\\ey_challenge\\.venv\\Lib\\site-packages\\requests\\models.py:974\u001b[0m, in \u001b[0;36mResponse.json\u001b[1;34m(self, **kwargs)\u001b[0m\n\u001b[0;32m    973\u001b[0m \u001b[38;5;28;01mtry\u001b[39;00m:\n\u001b[1;32m--> 974\u001b[0m     \u001b[38;5;28;01mreturn\u001b[39;00m \u001b[43mcomplexjson\u001b[49m\u001b[38;5;241;43m.\u001b[39;49m\u001b[43mloads\u001b[49m\u001b[43m(\u001b[49m\u001b[38;5;28;43mself\u001b[39;49m\u001b[38;5;241;43m.\u001b[39;49m\u001b[43mtext\u001b[49m\u001b[43m,\u001b[49m\u001b[43m \u001b[49m\u001b[38;5;241;43m*\u001b[39;49m\u001b[38;5;241;43m*\u001b[39;49m\u001b[43mkwargs\u001b[49m\u001b[43m)\u001b[49m\n\u001b[0;32m    975\u001b[0m \u001b[38;5;28;01mexcept\u001b[39;00m JSONDecodeError \u001b[38;5;28;01mas\u001b[39;00m e:\n\u001b[0;32m    976\u001b[0m     \u001b[38;5;66;03m# Catch JSON-related errors and raise as requests.JSONDecodeError\u001b[39;00m\n\u001b[0;32m    977\u001b[0m     \u001b[38;5;66;03m# This aliases json.JSONDecodeError and simplejson.JSONDecodeError\u001b[39;00m\n",
      "File \u001b[1;32mC:\\Program Files\\WindowsApps\\PythonSoftwareFoundation.Python.3.11_3.11.2544.0_x64__qbz5n2kfra8p0\\Lib\\json\\__init__.py:346\u001b[0m, in \u001b[0;36mloads\u001b[1;34m(s, cls, object_hook, parse_float, parse_int, parse_constant, object_pairs_hook, **kw)\u001b[0m\n\u001b[0;32m    343\u001b[0m \u001b[38;5;28;01mif\u001b[39;00m (\u001b[38;5;28mcls\u001b[39m \u001b[38;5;129;01mis\u001b[39;00m \u001b[38;5;28;01mNone\u001b[39;00m \u001b[38;5;129;01mand\u001b[39;00m object_hook \u001b[38;5;129;01mis\u001b[39;00m \u001b[38;5;28;01mNone\u001b[39;00m \u001b[38;5;129;01mand\u001b[39;00m\n\u001b[0;32m    344\u001b[0m         parse_int \u001b[38;5;129;01mis\u001b[39;00m \u001b[38;5;28;01mNone\u001b[39;00m \u001b[38;5;129;01mand\u001b[39;00m parse_float \u001b[38;5;129;01mis\u001b[39;00m \u001b[38;5;28;01mNone\u001b[39;00m \u001b[38;5;129;01mand\u001b[39;00m\n\u001b[0;32m    345\u001b[0m         parse_constant \u001b[38;5;129;01mis\u001b[39;00m \u001b[38;5;28;01mNone\u001b[39;00m \u001b[38;5;129;01mand\u001b[39;00m object_pairs_hook \u001b[38;5;129;01mis\u001b[39;00m \u001b[38;5;28;01mNone\u001b[39;00m \u001b[38;5;129;01mand\u001b[39;00m \u001b[38;5;129;01mnot\u001b[39;00m kw):\n\u001b[1;32m--> 346\u001b[0m     \u001b[38;5;28;01mreturn\u001b[39;00m \u001b[43m_default_decoder\u001b[49m\u001b[38;5;241;43m.\u001b[39;49m\u001b[43mdecode\u001b[49m\u001b[43m(\u001b[49m\u001b[43ms\u001b[49m\u001b[43m)\u001b[49m\n\u001b[0;32m    347\u001b[0m \u001b[38;5;28;01mif\u001b[39;00m \u001b[38;5;28mcls\u001b[39m \u001b[38;5;129;01mis\u001b[39;00m \u001b[38;5;28;01mNone\u001b[39;00m:\n",
      "File \u001b[1;32mC:\\Program Files\\WindowsApps\\PythonSoftwareFoundation.Python.3.11_3.11.2544.0_x64__qbz5n2kfra8p0\\Lib\\json\\decoder.py:337\u001b[0m, in \u001b[0;36mJSONDecoder.decode\u001b[1;34m(self, s, _w)\u001b[0m\n\u001b[0;32m    333\u001b[0m \u001b[38;5;250m\u001b[39m\u001b[38;5;124;03m\"\"\"Return the Python representation of ``s`` (a ``str`` instance\u001b[39;00m\n\u001b[0;32m    334\u001b[0m \u001b[38;5;124;03mcontaining a JSON document).\u001b[39;00m\n\u001b[0;32m    335\u001b[0m \n\u001b[0;32m    336\u001b[0m \u001b[38;5;124;03m\"\"\"\u001b[39;00m\n\u001b[1;32m--> 337\u001b[0m obj, end \u001b[38;5;241m=\u001b[39m \u001b[38;5;28;43mself\u001b[39;49m\u001b[38;5;241;43m.\u001b[39;49m\u001b[43mraw_decode\u001b[49m\u001b[43m(\u001b[49m\u001b[43ms\u001b[49m\u001b[43m,\u001b[49m\u001b[43m \u001b[49m\u001b[43midx\u001b[49m\u001b[38;5;241;43m=\u001b[39;49m\u001b[43m_w\u001b[49m\u001b[43m(\u001b[49m\u001b[43ms\u001b[49m\u001b[43m,\u001b[49m\u001b[43m \u001b[49m\u001b[38;5;241;43m0\u001b[39;49m\u001b[43m)\u001b[49m\u001b[38;5;241;43m.\u001b[39;49m\u001b[43mend\u001b[49m\u001b[43m(\u001b[49m\u001b[43m)\u001b[49m\u001b[43m)\u001b[49m\n\u001b[0;32m    338\u001b[0m end \u001b[38;5;241m=\u001b[39m _w(s, end)\u001b[38;5;241m.\u001b[39mend()\n",
      "File \u001b[1;32mC:\\Program Files\\WindowsApps\\PythonSoftwareFoundation.Python.3.11_3.11.2544.0_x64__qbz5n2kfra8p0\\Lib\\json\\decoder.py:355\u001b[0m, in \u001b[0;36mJSONDecoder.raw_decode\u001b[1;34m(self, s, idx)\u001b[0m\n\u001b[0;32m    354\u001b[0m \u001b[38;5;28;01mexcept\u001b[39;00m \u001b[38;5;167;01mStopIteration\u001b[39;00m \u001b[38;5;28;01mas\u001b[39;00m err:\n\u001b[1;32m--> 355\u001b[0m     \u001b[38;5;28;01mraise\u001b[39;00m JSONDecodeError(\u001b[38;5;124m\"\u001b[39m\u001b[38;5;124mExpecting value\u001b[39m\u001b[38;5;124m\"\u001b[39m, s, err\u001b[38;5;241m.\u001b[39mvalue) \u001b[38;5;28;01mfrom\u001b[39;00m\u001b[38;5;250m \u001b[39m\u001b[38;5;28;01mNone\u001b[39;00m\n\u001b[0;32m    356\u001b[0m \u001b[38;5;28;01mreturn\u001b[39;00m obj, end\n",
      "\u001b[1;31mJSONDecodeError\u001b[0m: Expecting value: line 1 column 1 (char 0)",
      "\nDuring handling of the above exception, another exception occurred:\n",
      "\u001b[1;31mJSONDecodeError\u001b[0m                           Traceback (most recent call last)",
      "Cell \u001b[1;32mIn[6], line 4\u001b[0m\n\u001b[0;32m      1\u001b[0m SAVE_DIR \u001b[38;5;241m=\u001b[39m \u001b[38;5;124m\"\u001b[39m\u001b[38;5;124m../data/AOD/air_quality/\u001b[39m\u001b[38;5;124m\"\u001b[39m\n\u001b[0;32m      3\u001b[0m output_file \u001b[38;5;241m=\u001b[39m \u001b[38;5;124m\"\u001b[39m\u001b[38;5;124mAOD_NewYork_Summer2021.tif\u001b[39m\u001b[38;5;124m\"\u001b[39m\n\u001b[1;32m----> 4\u001b[0m \u001b[43mgeemap\u001b[49m\u001b[38;5;241;43m.\u001b[39;49m\u001b[43mee_export_image\u001b[49m\u001b[43m(\u001b[49m\n\u001b[0;32m      5\u001b[0m \u001b[43m    \u001b[49m\u001b[43maod\u001b[49m\u001b[43m,\u001b[49m\u001b[43m \u001b[49m\n\u001b[0;32m      6\u001b[0m \u001b[43m    \u001b[49m\u001b[43mfilename\u001b[49m\u001b[38;5;241;43m=\u001b[39;49m\u001b[43mSAVE_DIR\u001b[49m\u001b[38;5;241;43m+\u001b[39;49m\u001b[43moutput_file\u001b[49m\u001b[43m,\u001b[49m\u001b[43m \u001b[49m\n\u001b[0;32m      7\u001b[0m \u001b[43m    \u001b[49m\u001b[43mscale\u001b[49m\u001b[38;5;241;43m=\u001b[39;49m\u001b[38;5;241;43m1000\u001b[39;49m\u001b[43m,\u001b[49m\u001b[43m \u001b[49m\n\u001b[0;32m      8\u001b[0m \u001b[43m    \u001b[49m\u001b[43mregion\u001b[49m\u001b[38;5;241;43m=\u001b[39;49m\u001b[43mcoords\u001b[49m\u001b[43m,\u001b[49m\u001b[43m \u001b[49m\n\u001b[0;32m      9\u001b[0m \u001b[43m    \u001b[49m\u001b[43mfile_per_band\u001b[49m\u001b[38;5;241;43m=\u001b[39;49m\u001b[38;5;28;43;01mFalse\u001b[39;49;00m\n\u001b[0;32m     10\u001b[0m \u001b[43m)\u001b[49m\n",
      "File \u001b[1;32md:\\HW & Project\\EY Challenge\\ey_challenge\\.venv\\Lib\\site-packages\\geemap\\common.py:134\u001b[0m, in \u001b[0;36mee_export_image\u001b[1;34m(ee_object, filename, scale, crs, crs_transform, region, dimensions, file_per_band, format, unzip, unmask_value, timeout, proxies)\u001b[0m\n\u001b[0;32m    132\u001b[0m     \u001b[38;5;28mprint\u001b[39m(\u001b[38;5;124m\"\u001b[39m\u001b[38;5;124mAn error occurred while downloading.\u001b[39m\u001b[38;5;124m\"\u001b[39m)\n\u001b[0;32m    133\u001b[0m     \u001b[38;5;28;01mif\u001b[39;00m r \u001b[38;5;129;01mis\u001b[39;00m \u001b[38;5;129;01mnot\u001b[39;00m \u001b[38;5;28;01mNone\u001b[39;00m:\n\u001b[1;32m--> 134\u001b[0m         \u001b[38;5;28mprint\u001b[39m(\u001b[43mr\u001b[49m\u001b[38;5;241;43m.\u001b[39;49m\u001b[43mjson\u001b[49m\u001b[43m(\u001b[49m\u001b[43m)\u001b[49m[\u001b[38;5;124m\"\u001b[39m\u001b[38;5;124merror\u001b[39m\u001b[38;5;124m\"\u001b[39m][\u001b[38;5;124m\"\u001b[39m\u001b[38;5;124mmessage\u001b[39m\u001b[38;5;124m\"\u001b[39m])\n\u001b[0;32m    135\u001b[0m     \u001b[38;5;28;01mreturn\u001b[39;00m\n\u001b[0;32m    137\u001b[0m \u001b[38;5;28;01mtry\u001b[39;00m:\n",
      "File \u001b[1;32md:\\HW & Project\\EY Challenge\\ey_challenge\\.venv\\Lib\\site-packages\\requests\\models.py:978\u001b[0m, in \u001b[0;36mResponse.json\u001b[1;34m(self, **kwargs)\u001b[0m\n\u001b[0;32m    974\u001b[0m     \u001b[38;5;28;01mreturn\u001b[39;00m complexjson\u001b[38;5;241m.\u001b[39mloads(\u001b[38;5;28mself\u001b[39m\u001b[38;5;241m.\u001b[39mtext, \u001b[38;5;241m*\u001b[39m\u001b[38;5;241m*\u001b[39mkwargs)\n\u001b[0;32m    975\u001b[0m \u001b[38;5;28;01mexcept\u001b[39;00m JSONDecodeError \u001b[38;5;28;01mas\u001b[39;00m e:\n\u001b[0;32m    976\u001b[0m     \u001b[38;5;66;03m# Catch JSON-related errors and raise as requests.JSONDecodeError\u001b[39;00m\n\u001b[0;32m    977\u001b[0m     \u001b[38;5;66;03m# This aliases json.JSONDecodeError and simplejson.JSONDecodeError\u001b[39;00m\n\u001b[1;32m--> 978\u001b[0m     \u001b[38;5;28;01mraise\u001b[39;00m RequestsJSONDecodeError(e\u001b[38;5;241m.\u001b[39mmsg, e\u001b[38;5;241m.\u001b[39mdoc, e\u001b[38;5;241m.\u001b[39mpos)\n",
      "\u001b[1;31mJSONDecodeError\u001b[0m: Expecting value: line 1 column 1 (char 0)"
     ]
    }
   ],
   "source": [
    "SAVE_DIR = \"../data/AOD/air_quality/\"\n",
    "\n",
    "output_file = \"AOD_NewYork_Summer2021.tif\"\n",
    "geemap.ee_export_image(\n",
    "    aod, \n",
    "    filename=SAVE_DIR+output_file, \n",
    "    scale=1000, \n",
    "    region=coords, \n",
    "    file_per_band=False\n",
    ")"
   ]
  },
  {
   "cell_type": "code",
   "execution_count": 7,
   "metadata": {},
   "outputs": [
    {
     "data": {
      "text/html": [
       "\n",
       "            <style>\n",
       "                .geemap-dark {\n",
       "                    --jp-widgets-color: white;\n",
       "                    --jp-widgets-label-color: white;\n",
       "                    --jp-ui-font-color1: white;\n",
       "                    --jp-layout-color2: #454545;\n",
       "                    background-color: #383838;\n",
       "                }\n",
       "\n",
       "                .geemap-dark .jupyter-button {\n",
       "                    --jp-layout-color3: #383838;\n",
       "                }\n",
       "\n",
       "                .geemap-colab {\n",
       "                    background-color: var(--colab-primary-surface-color, white);\n",
       "                }\n",
       "\n",
       "                .geemap-colab .jupyter-button {\n",
       "                    --jp-layout-color3: var(--colab-primary-surface-color, white);\n",
       "                }\n",
       "            </style>\n",
       "            "
      ],
      "text/plain": [
       "<IPython.core.display.HTML object>"
      ]
     },
     "metadata": {},
     "output_type": "display_data"
    },
    {
     "data": {
      "image/png": "[encoded data removed]",
      "text/plain": [
       "<Figure size 800x600 with 2 Axes>"
      ]
     },
     "metadata": {},
     "output_type": "display_data"
    },
    {
     "data": {
      "text/plain": [
       "array([[1151.80377358, 1151.80377358, 1203.21132075, 1195.00754717,\n",
       "        1286.70188679, 1324.23396226, 1324.23396226, 1311.42264151,\n",
       "        1237.11320755, 1306.98113208, 1184.37358491, 1221.52830189,\n",
       "        1221.52830189, 1229.73962264, 1239.00754717, 1185.24528302,\n",
       "        1170.99622642],\n",
       "       [1135.49056604, 1135.49056604, 1131.60754717, 1193.81886792,\n",
       "        1222.19622642, 1263.14339623, 2542.45283019, 2542.45283019,\n",
       "        1300.49056604, 1254.67924528, 1148.86415094, 1165.61132075,\n",
       "        1165.61132075, 1179.1509434 , 1174.40754717, 1201.07169811,\n",
       "        1121.25660377],\n",
       "       [1136.81886792, 1149.87169811, 1149.87169811, 1203.51320755,\n",
       "        1204.56603774, 1213.30566038, 1304.23396226, 1304.23396226,\n",
       "        1305.18867925, 1266.86792453, 1171.3509434 , 1199.46037736,\n",
       "        1163.47169811, 1163.47169811, 1189.6       , 1155.92075472,\n",
       "        1204.30943396],\n",
       "       [1145.03396226, 1206.03773585, 1206.03773585, 1245.4490566 ,\n",
       "        1250.28301887, 1278.21509434, 1283.61886792, 1305.68301887,\n",
       "        1305.68301887, 1208.69433962, 1202.44528302, 1125.58867925,\n",
       "        1175.7245283 , 1175.7245283 , 1199.14716981, 1165.33584906,\n",
       "        1195.48301887],\n",
       "       [1089.22264151, 1119.30943396, 1244.83396226, 1244.83396226,\n",
       "        1278.20377358, 2542.45283019, 1252.73962264, 2542.45283019,\n",
       "        2542.45283019, 1246.96226415, 1175.78490566, 1173.36226415,\n",
       "        1212.04150943, 1178.61132075, 1178.61132075, 1189.47169811,\n",
       "        1191.63773585],\n",
       "       [1128.61132075, 1144.17735849, 1160.17735849, 1160.17735849,\n",
       "        2746.63773585, 1267.86792453, 2659.47169811, 1251.94339623,\n",
       "        1253.        , 1253.        , 1243.52830189, 1179.38490566,\n",
       "        1226.72830189, 1222.3245283 , 1222.3245283 , 1189.24150943,\n",
       "        1221.92830189],\n",
       "       [1128.82641509, 1130.61509434, 1152.73207547, 1173.3509434 ,\n",
       "        1173.3509434 , 1233.37358491, 1223.01509434, 1248.75471698,\n",
       "        1215.33207547, 1215.33207547, 1175.78113208, 1184.61132075,\n",
       "        1190.09433962, 1208.64150943, 1260.18113208, 1260.18113208,\n",
       "        1255.47169811],\n",
       "       [1165.0490566 , 1203.24150943, 2765.44528302, 1193.69433962,\n",
       "        1193.69433962, 2751.07924528, 1207.93962264, 1164.01132075,\n",
       "        1189.96226415, 1199.19245283, 1199.19245283, 1214.45660377,\n",
       "        1212.20377358, 1216.91320755, 1209.99622642, 1209.99622642,\n",
       "        1261.3245283 ],\n",
       "       [1223.61132075, 1203.59622642, 2798.01132075, 1189.94339623,\n",
       "        1184.77735849, 1184.77735849, 1186.84150943, 1177.67169811,\n",
       "        1266.58867925, 1267.14716981, 1267.14716981, 1286.16981132,\n",
       "        1229.01132075, 1256.06415094, 1256.73584906, 1237.33207547,\n",
       "        1237.33207547],\n",
       "       [1179.18113208, 1249.33207547, 1269.96603774, 2786.89056604,\n",
       "        1253.58113208, 1253.58113208, 1196.55849057, 1186.61132075,\n",
       "        1210.18867925, 1264.27169811, 2557.85283019, 2557.85283019,\n",
       "        1257.3509434 , 1263.82264151, 2788.3245283 , 2424.16603774,\n",
       "        2424.16603774],\n",
       "       [1247.99622642, 2750.73584906, 1232.03773585, 2809.29433962,\n",
       "        1257.30943396, 1243.76981132, 1243.76981132, 1231.44528302,\n",
       "        1185.0754717 , 1223.44150943, 1266.66037736, 1266.66037736,\n",
       "        1252.98113208, 1261.34716981, 1243.61509434, 1253.2490566 ,\n",
       "        1300.54716981],\n",
       "       [1240.75471698, 1240.75471698, 1238.17358491, 1288.38113208,\n",
       "        1245.97358491, 1250.66792453, 1250.66792453, 1237.16981132,\n",
       "        1209.70943396, 1172.48679245, 1223.44528302, 1187.35471698,\n",
       "        1187.35471698, 1224.37358491, 1238.72830189, 1242.05660377,\n",
       "        1837.28301887],\n",
       "       [1264.78113208, 1264.78113208, 2760.81886792, 1239.01886792,\n",
       "        1239.61886792, 1252.14716981, 1246.46792453, 1246.46792453,\n",
       "        1199.81132075, 1146.26792453, 1208.66415094, 1150.23773585,\n",
       "        1150.23773585, 1173.0754717 , 1186.51698113, 1205.94716981,\n",
       "        1220.58867925],\n",
       "       [1276.81132075, 1236.46037736, 1236.46037736, 1205.13584906,\n",
       "        1195.67169811, 1246.35849057, 1235.29811321, 1235.29811321,\n",
       "        1243.05283019, 1193.01886792, 1204.87924528, 1165.92075472,\n",
       "        1127.38113208, 1127.38113208, 1120.78113208, 1159.70188679,\n",
       "        1198.09811321],\n",
       "       [2768.22641509, 1256.22641509, 1256.22641509, 1247.7245283 ,\n",
       "        1227.10566038, 1209.79245283, 1205.46415094, 1252.20754717,\n",
       "        1252.20754717, 1230.89811321, 1157.15849057, 1179.22641509,\n",
       "        1107.66037736, 1107.66037736, 1150.13207547, 1148.84150943,\n",
       "        1181.90566038]])"
      ]
     },
     "execution_count": 7,
     "metadata": {},
     "output_type": "execute_result"
    }
   ],
   "source": [
    "# tif. file path\n",
    "tif_file = \"..\\\\data\\\\air_quality\\\\AOD\\\\AOD_NewYork_Summer2021.tif\"\n",
    "\n",
    "# Open tif. file\n",
    "with rasterio.open(tif_file) as src:\n",
    "    aod_data = src.read(7)  # Đọc band đầu tiên\n",
    "    profile = src.profile  # Metadata của file\n",
    "    bounds = src.bounds\n",
    "\n",
    "\n",
    "# print(\"Metadata\")\n",
    "# for key, value in profile.items():\n",
    "#     print(f\"{key}: {value}\")\n",
    "\n",
    "\n",
    "\n",
    "plt.figure(figsize=(8, 6))\n",
    "plt.imshow(aod_data, cmap=\"viridis\", interpolation=\"nearest\", \n",
    "           extent=[bounds.left, bounds.right, bounds.bottom, bounds.top])\n",
    "plt.colorbar(label=\"AOD Value\")\n",
    "plt.title(\"AOD over New York (Summer 2021)\")\n",
    "plt.show()\n",
    "\n",
    "aod_data"
   ]
  },
  {
   "cell_type": "code",
   "execution_count": 8,
   "metadata": {},
   "outputs": [
    {
     "data": {
      "text/html": [
       "\n",
       "            <style>\n",
       "                .geemap-dark {\n",
       "                    --jp-widgets-color: white;\n",
       "                    --jp-widgets-label-color: white;\n",
       "                    --jp-ui-font-color1: white;\n",
       "                    --jp-layout-color2: #454545;\n",
       "                    background-color: #383838;\n",
       "                }\n",
       "\n",
       "                .geemap-dark .jupyter-button {\n",
       "                    --jp-layout-color3: #383838;\n",
       "                }\n",
       "\n",
       "                .geemap-colab {\n",
       "                    background-color: var(--colab-primary-surface-color, white);\n",
       "                }\n",
       "\n",
       "                .geemap-colab .jupyter-button {\n",
       "                    --jp-layout-color3: var(--colab-primary-surface-color, white);\n",
       "                }\n",
       "            </style>\n",
       "            "
      ],
      "text/plain": [
       "<IPython.core.display.HTML object>"
      ]
     },
     "metadata": {},
     "output_type": "display_data"
    },
    {
     "data": {
      "image/png": "[encoded data removed]",
      "text/plain": [
       "<Figure size 800x600 with 2 Axes>"
      ]
     },
     "metadata": {},
     "output_type": "display_data"
    },
    {
     "data": {
      "text/plain": [
       "array([[1151.80377358, 1151.80377358, 1203.21132075, 1195.00754717,\n",
       "        1286.70188679, 1324.23396226, 1324.23396226, 1311.42264151,\n",
       "        1237.11320755, 1306.98113208, 1184.37358491, 1221.52830189,\n",
       "        1221.52830189, 1229.73962264, 1239.00754717, 1185.24528302,\n",
       "        1170.99622642],\n",
       "       [1135.49056604, 1135.49056604, 1131.60754717, 1193.81886792,\n",
       "        1222.19622642, 1263.14339623, 2542.45283019, 2542.45283019,\n",
       "        1300.49056604, 1254.67924528, 1148.86415094, 1165.61132075,\n",
       "        1165.61132075, 1179.1509434 , 1174.40754717, 1201.07169811,\n",
       "        1121.25660377],\n",
       "       [1136.81886792, 1149.87169811, 1149.87169811, 1203.51320755,\n",
       "        1204.56603774, 1213.30566038, 1304.23396226, 1304.23396226,\n",
       "        1305.18867925, 1266.86792453, 1171.3509434 , 1199.46037736,\n",
       "        1163.47169811, 1163.47169811, 1189.6       , 1155.92075472,\n",
       "        1204.30943396],\n",
       "       [1145.03396226, 1206.03773585, 1206.03773585, 1245.4490566 ,\n",
       "        1250.28301887, 1278.21509434, 1283.61886792, 1305.68301887,\n",
       "        1305.68301887, 1208.69433962, 1202.44528302, 1125.58867925,\n",
       "        1175.7245283 , 1175.7245283 , 1199.14716981, 1165.33584906,\n",
       "        1195.48301887],\n",
       "       [1089.22264151, 1119.30943396, 1244.83396226, 1244.83396226,\n",
       "        1278.20377358, 2542.45283019, 1252.73962264, 2542.45283019,\n",
       "        2542.45283019, 1246.96226415, 1175.78490566, 1173.36226415,\n",
       "        1212.04150943, 1178.61132075, 1178.61132075, 1189.47169811,\n",
       "        1191.63773585],\n",
       "       [1128.61132075, 1144.17735849, 1160.17735849, 1160.17735849,\n",
       "        2746.63773585, 1267.86792453, 2659.47169811, 1251.94339623,\n",
       "        1253.        , 1253.        , 1243.52830189, 1179.38490566,\n",
       "        1226.72830189, 1222.3245283 , 1222.3245283 , 1189.24150943,\n",
       "        1221.92830189],\n",
       "       [1128.82641509, 1130.61509434, 1152.73207547, 1173.3509434 ,\n",
       "        1173.3509434 , 1233.37358491, 1223.01509434, 1248.75471698,\n",
       "        1215.33207547, 1215.33207547, 1175.78113208, 1184.61132075,\n",
       "        1190.09433962, 1208.64150943, 1260.18113208, 1260.18113208,\n",
       "        1255.47169811],\n",
       "       [1165.0490566 , 1203.24150943, 2765.44528302, 1193.69433962,\n",
       "        1193.69433962, 2751.07924528, 1207.93962264, 1164.01132075,\n",
       "        1189.96226415, 1199.19245283, 1199.19245283, 1214.45660377,\n",
       "        1212.20377358, 1216.91320755, 1209.99622642, 1209.99622642,\n",
       "        1261.3245283 ],\n",
       "       [1223.61132075, 1203.59622642, 2798.01132075, 1189.94339623,\n",
       "        1184.77735849, 1184.77735849, 1186.84150943, 1177.67169811,\n",
       "        1266.58867925, 1267.14716981, 1267.14716981, 1286.16981132,\n",
       "        1229.01132075, 1256.06415094, 1256.73584906, 1237.33207547,\n",
       "        1237.33207547],\n",
       "       [1179.18113208, 1249.33207547, 1269.96603774, 2786.89056604,\n",
       "        1253.58113208, 1253.58113208, 1196.55849057, 1186.61132075,\n",
       "        1210.18867925, 1264.27169811, 2557.85283019, 2557.85283019,\n",
       "        1257.3509434 , 1263.82264151, 2788.3245283 , 2424.16603774,\n",
       "        2424.16603774],\n",
       "       [1247.99622642, 2750.73584906, 1232.03773585, 2809.29433962,\n",
       "        1257.30943396, 1243.76981132, 1243.76981132, 1231.44528302,\n",
       "        1185.0754717 , 1223.44150943, 1266.66037736, 1266.66037736,\n",
       "        1252.98113208, 1261.34716981, 1243.61509434, 1253.2490566 ,\n",
       "        1300.54716981],\n",
       "       [1240.75471698, 1240.75471698, 1238.17358491, 1288.38113208,\n",
       "        1245.97358491, 1250.66792453, 1250.66792453, 1237.16981132,\n",
       "        1209.70943396, 1172.48679245, 1223.44528302, 1187.35471698,\n",
       "        1187.35471698, 1224.37358491, 1238.72830189, 1242.05660377,\n",
       "        1837.28301887],\n",
       "       [1264.78113208, 1264.78113208, 2760.81886792, 1239.01886792,\n",
       "        1239.61886792, 1252.14716981, 1246.46792453, 1246.46792453,\n",
       "        1199.81132075, 1146.26792453, 1208.66415094, 1150.23773585,\n",
       "        1150.23773585, 1173.0754717 , 1186.51698113, 1205.94716981,\n",
       "        1220.58867925],\n",
       "       [1276.81132075, 1236.46037736, 1236.46037736, 1205.13584906,\n",
       "        1195.67169811, 1246.35849057, 1235.29811321, 1235.29811321,\n",
       "        1243.05283019, 1193.01886792, 1204.87924528, 1165.92075472,\n",
       "        1127.38113208, 1127.38113208, 1120.78113208, 1159.70188679,\n",
       "        1198.09811321],\n",
       "       [2768.22641509, 1256.22641509, 1256.22641509, 1247.7245283 ,\n",
       "        1227.10566038, 1209.79245283, 1205.46415094, 1252.20754717,\n",
       "        1252.20754717, 1230.89811321, 1157.15849057, 1179.22641509,\n",
       "        1107.66037736, 1107.66037736, 1150.13207547, 1148.84150943,\n",
       "        1181.90566038]])"
      ]
     },
     "execution_count": 8,
     "metadata": {},
     "output_type": "execute_result"
    }
   ],
   "source": [
    "# tif. file path\n",
    "tif_file = \"..\\\\data\\\\air_quality\\\\AOD\\\\AOD_NewYork_Summer2021_manually.tif\"\n",
    "\n",
    "# Open tif. file\n",
    "with rasterio.open(tif_file) as src:\n",
    "    aod_data = src.read(7)  # Đọc band đầu tiên\n",
    "    profile = src.profile  # Metadata của file\n",
    "    bounds = src.bounds\n",
    "\n",
    "\n",
    "# print(\"Metadata\")\n",
    "# for key, value in profile.items():\n",
    "#     print(f\"{key}: {value}\")\n",
    "\n",
    "\n",
    "\n",
    "plt.figure(figsize=(8, 6))\n",
    "plt.imshow(aod_data, cmap=\"viridis\", interpolation=\"nearest\", \n",
    "           extent=[bounds.left, bounds.right, bounds.bottom, bounds.top])\n",
    "plt.colorbar(label=\"AOD Value\")\n",
    "plt.title(\"AOD over New York (Summer 2021)\")\n",
    "plt.show()\n",
    "\n",
    "aod_data"
   ]
  }
 ],
 "metadata": {
  "kernelspec": {
   "display_name": ".venv",
   "language": "python",
   "name": "python3"
  },
  "language_info": {
   "codemirror_mode": {
    "name": "ipython",
    "version": 3
   },
   "file_extension": ".py",
   "mimetype": "text/x-python",
   "name": "python",
   "nbconvert_exporter": "python",
   "pygments_lexer": "ipython3",
   "version": "3.11.9"
  }
 },
 "nbformat": 4,
 "nbformat_minor": 2
}
